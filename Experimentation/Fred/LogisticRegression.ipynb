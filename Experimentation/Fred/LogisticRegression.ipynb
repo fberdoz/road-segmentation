{
 "cells": [
  {
   "cell_type": "code",
   "execution_count": 43,
   "metadata": {},
   "outputs": [
    {
     "name": "stdout",
     "output_type": "stream",
     "text": [
      "The autoreload extension is already loaded. To reload it, use:\n",
      "  %reload_ext autoreload\n"
     ]
    },
    {
     "name": "stderr",
     "output_type": "stream",
     "text": [
      "[autoreload of tf_aerial_images failed: Traceback (most recent call last):\n",
      "  File \"/Users/fred/anaconda3/lib/python3.7/site-packages/IPython/extensions/autoreload.py\", line 245, in check\n",
      "    superreload(m, reload, self.old_objects)\n",
      "  File \"/Users/fred/anaconda3/lib/python3.7/site-packages/IPython/extensions/autoreload.py\", line 434, in superreload\n",
      "    module = reload(module)\n",
      "  File \"/Users/fred/anaconda3/lib/python3.7/imp.py\", line 314, in reload\n",
      "    return importlib.reload(module)\n",
      "  File \"/Users/fred/anaconda3/lib/python3.7/importlib/__init__.py\", line 169, in reload\n",
      "    _bootstrap._exec(spec, module)\n",
      "  File \"<frozen importlib._bootstrap>\", line 630, in _exec\n",
      "  File \"<frozen importlib._bootstrap_external>\", line 728, in exec_module\n",
      "  File \"<frozen importlib._bootstrap>\", line 219, in _call_with_frames_removed\n",
      "  File \"/Users/fred/Library/Mobile Documents/com~apple~CloudDocs/Documents/Master/Ma1/ML/Project2/Fred/tf_aerial_images.py\", line 42, in <module>\n",
      "    \"\"\"Directory where to write event logs \"\"\"\n",
      "  File \"/Users/fred/anaconda3/lib/python3.7/site-packages/tensorflow/python/platform/flags.py\", line 58, in wrapper\n",
      "    return original_function(*args, **kwargs)\n",
      "  File \"/Users/fred/anaconda3/lib/python3.7/site-packages/absl/flags/_defines.py\", line 241, in DEFINE_string\n",
      "    DEFINE(parser, name, default, help, flag_values, serializer, **args)\n",
      "absl.flags._exceptions.DuplicateFlagError: The flag 'train_dir' is defined twice. First from tf_aerial_images, Second from tf_aerial_images.  Description from first occurrence: Directory where to write event logs and checkpoint.\n",
      "]\n"
     ]
    }
   ],
   "source": [
    "%matplotlib inline\n",
    "import matplotlib.image as mpimg\n",
    "import numpy as np\n",
    "import matplotlib.pyplot as plt\n",
    "import os, sys\n",
    "from PIL import Image                                 #create image from array\n",
    "from sklearn import linear_model, svm                 #logistic regression model and support vector machine\n",
    "from datetime import datetime                         #date for submission file\n",
    "from scipy import ndimage, signal                     #image (ndarray) rotation and correlation\n",
    "from sklearn.preprocessing import PolynomialFeatures  #efficient polynomial augmentation\n",
    "\n",
    "\n",
    "#Personal libraries\n",
    "from proj2_helpers import *\n",
    "from mask_to_submission import *\n",
    "from submission_to_mask import *\n",
    "\n",
    "%load_ext autoreload\n",
    "%autoreload 2"
   ]
  },
  {
   "cell_type": "markdown",
   "metadata": {},
   "source": [
    "### 1) Loading the set of images"
   ]
  },
  {
   "cell_type": "code",
   "execution_count": 19,
   "metadata": {},
   "outputs": [],
   "source": [
    "def LoadTrainingData(n_img, rootdir=\"Datasets/training/\", printnames=False):\n",
    "    \"\"\" Load the data from the root directory. (a total of n_img images) \"\"\"\n",
    "\n",
    "    image_dir = rootdir + \"images/\"\n",
    "    files = os.listdir(image_dir)\n",
    "\n",
    "    n = min(n_img, len(files)) # Load maximum 20 images\n",
    "    print(\"Loading \" + str(n) + \" train images...\")\n",
    "    imgs = [load_image(image_dir + files[i]) for i in range(n)]\n",
    "\n",
    "    gt_dir = rootdir + \"groundtruth/\"\n",
    "    print(\"Loading \" + str(n) + \" groundtruth images...\")\n",
    "    gt_imgs = [load_image(gt_dir + files[i]) for i in range(n)]\n",
    "\n",
    "    if (printnames):\n",
    "        print(\"The loaded images are: \")\n",
    "        for i in range(n):\n",
    "            print(\"    - \" + files[i])\n",
    "    \n",
    "    return imgs, gt_imgs"
   ]
  },
  {
   "cell_type": "code",
   "execution_count": 21,
   "metadata": {},
   "outputs": [
    {
     "name": "stdout",
     "output_type": "stream",
     "text": [
      "Loading 10 train images...\n",
      "Loading 10 groundtruth images...\n"
     ]
    }
   ],
   "source": [
    "rootdir=\"Datasets/training/\"\n",
    "imagedir = rootdir + \"images/\"\n",
    "files = os.listdir(imagedir)\n",
    "\n",
    "n=10\n",
    "imgs_raw, gt_imgs = LoadTrainingData(n, rootdir)"
   ]
  },
  {
   "cell_type": "markdown",
   "metadata": {},
   "source": [
    "### 2) Images analysis"
   ]
  },
  {
   "cell_type": "code",
   "execution_count": 22,
   "metadata": {
    "jupyter": {
     "source_hidden": true
    }
   },
   "outputs": [],
   "source": [
    "def RoadColorAnalysis(imgs, gt_imgs, n, ifprint=True):\n",
    "    \"\"\"\n",
    "        Analyses the color of the road (signal) and of the background. \n",
    "    \"\"\"\n",
    "\n",
    "    #Assign an array of 3 elements (1 for each color RGB) for each image (mean and std)\n",
    "    mean_road_img = np.zeros((n,3))\n",
    "    mean_notroad_img = np.zeros((n,3)) \n",
    "    std_road_img = np.zeros((n,3))\n",
    "\n",
    "    for ind_im in range(n):\n",
    "\n",
    "        #get current image and corresponding groundtruth\n",
    "        img = imgs[ind_im]           \n",
    "        gt = gt_imgs[ind_im] \n",
    "\n",
    "        #fill mean_road, a pixel is considered to be part of a road in the gt if its value is bigger than threshold th\n",
    "        th = 0.6\n",
    "        mean_road_img[ind_im,:] = img[gt > th,:].mean(axis=0)\n",
    "        mean_notroad_img[ind_im,:] = img[gt < th,:].mean(axis=0)\n",
    "        std_road_img[ind_im,:] = img[gt > th,:].std(axis=0)\n",
    "    \n",
    "    #average over image\n",
    "    mean_road = mean_road_img.mean(axis=0)\n",
    "    mean_notroad = mean_notroad_img.mean(axis=0)\n",
    "    mean_road_std = mean_road_img.std(axis=0)    #not returned\n",
    "    std_road = std_road_img.mean(axis=0)\n",
    "\n",
    "    #print results\n",
    "    print(\"The mean color of the roads are (RGB): \\n\", mean_road)\n",
    "    print(\"The standard deviation over the images of the mean color of the roads are (RGB): \\n\", mean_road_std)\n",
    "    print(\"The mean over the images of the standard deviation of the color of the roads are (RGB): \\n\", std_road)\n",
    "\n",
    "    #if ifprint is true, plots ethe signals, the bacground and the average mean of the signal and background's colors\n",
    "    if (ifprint):\n",
    "        fig, axs = plt.subplots(n, 3, figsize=(12,n*5))\n",
    "        for i in range(n):\n",
    "\n",
    "            img_onlyroad = np.copy(imgs[i])\n",
    "            img_onlyroad[gt_imgs[i] < th,:]=np.array([1,1,1])\n",
    "\n",
    "            img_notroad = np.copy(imgs[i])\n",
    "            img_notroad[gt_imgs[i] > th,:]=np.array([1,1,1])\n",
    "\n",
    "            axs[i,0].imshow(img_onlyroad, cmap='Greys_r')\n",
    "            axs[i,0].set_title(\"signal in \" + files[i])\n",
    "\n",
    "            axs[i,1].imshow(concatenate_images(mean_road_img[i,:].reshape(1,1,3),mean_notroad_img[i,:].reshape(1,1,3)))\n",
    "            axs[i,1].set_title(\"Average color of the road (left) \\n Average color of the rest (right)\")\n",
    "            axs[i,1].set_axis_off()\n",
    "\n",
    "            axs[i,2].imshow(img_notroad, cmap='Greys_r')\n",
    "            axs[i,2].set_title(\"background in \" + files[i])\n",
    "            \n",
    "    return mean_road, mean_notroad, std_road\n",
    "\n",
    "def ImgAndGt(imgs, gt_imgs, idx):\n",
    "    img = imgs[idx]\n",
    "    gt = gt_imgs[idx]\n",
    "    \n",
    "    fig = plt.figure()\n",
    "    fig.set_size_inches(7,3.3)\n",
    "\n",
    "    ax1 = fig.add_subplot(1, 2, 1)\n",
    "    ax2 = fig.add_subplot(1, 2, 2)\n",
    "                         \n",
    "    ax1.imshow(img, cmap=\"Greys_r\")\n",
    "    ax2.imshow(gt, cmap=\"Greys_r\")\n",
    "    \n",
    "    ax1.set_xlabel(\"width (pixel)\")\n",
    "    ax2.set_xlabel(\"width (pixel)\")\n",
    "    \n",
    "    ax1.set_ylabel(\"height (pixel)\")\n",
    "    \n",
    "    ax1.set_title('Satellite image')\n",
    "    ax2.set_title('Groundtruth mask')\n",
    "    \n",
    "    fig.savefig(\"Figures/ImgAndGt\")\n",
    "    "
   ]
  },
  {
   "cell_type": "code",
   "execution_count": 24,
   "metadata": {},
   "outputs": [
    {
     "name": "stdout",
     "output_type": "stream",
     "text": [
      "The mean color of the roads are (RGB): \n",
      " [0.32487175 0.31682215 0.28085616]\n",
      "The standard deviation over the images of the mean color of the roads are (RGB): \n",
      " [0.03378021 0.02999188 0.03160279]\n",
      "The mean over the images of the standard deviation of the color of the roads are (RGB): \n",
      " [0.1376061  0.13144847 0.12870381]\n"
     ]
    },
    {
     "data": {
      "image/png": "[encoded data removed]",
      "text/plain": [
       "<Figure size 504x237.6 with 2 Axes>"
      ]
     },
     "metadata": {
      "needs_background": "light"
     },
     "output_type": "display_data"
    }
   ],
   "source": [
    "mean_road, mean_notroad, std_road = RoadColorAnalysis(imgs_raw, gt_imgs, n, ifprint=False)\n",
    "ImgAndGt(imgs_raw, gt_imgs, 1)"
   ]
  },
  {
   "cell_type": "markdown",
   "metadata": {},
   "source": [
    "### 3) Chanel (features) augmentation"
   ]
  },
  {
   "cell_type": "code",
   "execution_count": 25,
   "metadata": {
    "jupyter": {
     "source_hidden": true
    }
   },
   "outputs": [],
   "source": [
    "def ChanelAugmentation(imgs):\n",
    "    \"\"\" Add three chanels to the original images. (Grey level, vertical edge and horizontal edges)\"\"\"\n",
    "    \n",
    " \n",
    "    new_imgs = []\n",
    "    #Sobel filters masks\n",
    "    V_kernel = np.array([[-1,0,1],[-2,0,2],[-1,0,1]])\n",
    "    H_kernel = np.array([[-1,-2,-1],[0,0,0],[1,2,1]])\n",
    "    \n",
    "    # Performing the correlation on each image\n",
    "    for i, img in enumerate(imgs):\n",
    "        Grey_level = img.mean(axis=2)\n",
    "        V_Edges = signal.correlate2d(Grey_level, V_kernel, mode='same', boundary='symm')\n",
    "        H_Edges = signal.correlate2d(Grey_level, H_kernel, mode='same', boundary='symm')\n",
    "        \n",
    "        new_imgs += [np.dstack((img, Grey_level, V_Edges, H_Edges))]\n",
    "        \n",
    "    return new_imgs"
   ]
  },
  {
   "cell_type": "code",
   "execution_count": 26,
   "metadata": {},
   "outputs": [
    {
     "name": "stdout",
     "output_type": "stream",
     "text": [
      "The images had originally  3 channels\n",
      "The images have now  6 channels\n"
     ]
    }
   ],
   "source": [
    "# Add three chanels to the original images. (Grey level, vertical edges and horizontal edges)\n",
    "print(\"The images had originally \",imgs_raw[0].shape[2], \"channels\")\n",
    "imgs = ChanelAugmentation(imgs_raw)\n",
    "print(\"The images have now \", imgs[0].shape[2], \"channels\")"
   ]
  },
  {
   "cell_type": "markdown",
   "metadata": {},
   "source": [
    "### 3) Data augmentation"
   ]
  },
  {
   "cell_type": "code",
   "execution_count": 8,
   "metadata": {
    "jupyter": {
     "source_hidden": true
    }
   },
   "outputs": [],
   "source": [
    "# The augmented data will present itself as follows: \n",
    "# [original img, 90° rotation, 180° rotation, 270° rotation, \n",
    "#  symmetry original img, sym 90° rot img, sym 180° rot img, sym 270° img]\n",
    "\n",
    "def DataAugmentation(imgs, gt_imgs, angles, sym=True):\n",
    "    \"\"\"\n",
    "    Augments the data by rotating the image with the angles given in the list <angles>.\n",
    "    If <sym> is true, it also augments the the data with the images obtained by performing a\n",
    "    y axis symmetry.\n",
    "    \n",
    "    The augmented data will present itself as follows: \n",
    "        \n",
    "        [angles[1] rotations, ..., angles[end] rotations,\n",
    "        Y axis symmetry of the angles[1] rotations, ..., Y axis symmetry of the angles[end] rotations]\n",
    " \n",
    "    \"\"\"\n",
    "    n = len(imgs)\n",
    "    \n",
    "    # Creating the augmented version of the images.\n",
    "    aug_imgs = []\n",
    "    aug_gt_imgs = []\n",
    "    \n",
    "    # Rotating the images and adding them to the augmented data list\n",
    "    for theta in angles:\n",
    "        print(\"Augmenting the data with the images rotated by\", theta , \"deg.\")\n",
    "        aug_imgs += [BuildRotatedImage(imgs[i], theta) for i in range(n)]\n",
    "        aug_gt_imgs += [BuildRotatedImage(gt_imgs[i], theta) for i in range(n)]  \n",
    "        \n",
    "    # Y symmetry of the images and adding them to the augmented dat list\n",
    "    if (sym):\n",
    "        print(\"Augmenting the data with the symmetries\")\n",
    "        n_tmp = len(aug_imgs)\n",
    "        aug_imgs += [np.flip(aug_imgs[i],1) for i in range(n_tmp)]\n",
    "        aug_gt_imgs += [np.flip(aug_gt_imgs[i],1) for i in range(n_tmp)]\n",
    "        \n",
    "    return aug_imgs, aug_gt_imgs\n",
    "\n",
    "\n",
    "def PlotAugmentedData(imgs, gt_imgs, id_img=0):\n",
    "    \"\"\" \n",
    "    Plot one image (id_img) and its corresponding rotations and symmetries.\n",
    "    The angles for the rotations are [0, 45, 90, 135, 180, 225, 270, 315].\n",
    "    \"\"\"\n",
    "    \n",
    "    aug_imgs, aug_gt_imgs = DataAugmentation([imgs[id_img]], [gt_imgs[id_img]], [0, 45, 90, 135, 180, 225, 270, 315], sym=True)\n",
    "    \n",
    "    nimgs = int(len(aug_imgs)/16)\n",
    "\n",
    "    titles = [\"Original image\", \n",
    "              \"Rotated image (45°)\", \n",
    "              \"Rotated image (90°)\",\n",
    "              \"Rotated image (135°)\", \n",
    "              \"Rotated image (180°)\", \n",
    "              \"Rotated image (225°)\", \n",
    "              \"Rotated image (270°)\",\n",
    "              \"Rotated image (315°)\", \n",
    "              \"Y axis sym. of the \\n original version\",\n",
    "              \"Y axis sym. of the \\n rotated image (45°)\", \n",
    "              \"Y axis sym. of the \\n rotated image (90°)\",\n",
    "              \"Y axis sym. of the \\n rotated image (135°)\", \n",
    "              \"Y axis sym. of the \\n rotated image (180°)\", \n",
    "              \"Y axis sym. of the \\n rotated image (225°)\",\n",
    "             \"Y axis sym. of the \\n rotated image (270°)\",\n",
    "             \"Y axis sym. of the \\n rotated image (305°)\"]\n",
    "    \n",
    "    fig_augData, axs = plt.subplots(4, 4, figsize=(16, 12))\n",
    "    \n",
    "    for i in range(16):\n",
    "        print\n",
    "        axs[int(i/4), (i % 4)].imshow(concatenate_images(aug_imgs[i], aug_gt_imgs[i]), cmap='Greys_r')\n",
    "        axs[int(i/4), (i % 4)].set_title(files[id_img] + \"\\n\" + titles[i])  \n",
    "\n",
    "    \n",
    "def BuildExtendedImage(img):\n",
    "    \"\"\" Create a 3x3 grid of the imput image by mirroring it at the boundaries\"\"\"\n",
    "\n",
    "    top_and_lower_row = np.concatenate((np.flip(np.flip(img,0),1), np.flip(img,0), np.flip(np.flip(img,0),1)), axis=1)\n",
    "    mid_row = np.concatenate((np.flip(img,1), img, np.flip(img,1)), 1)\n",
    "    \n",
    "    ext_img = np.concatenate((top_and_lower_row, mid_row, top_and_lower_row), 0)\n",
    "       \n",
    "    return ext_img\n",
    "\n",
    "def BuildRotatedImage(img, degree):\n",
    "    \"\"\" Return the same image rataded by <degree> degrees. The corners are filled using mirrored boundaries. \"\"\"\n",
    "    \n",
    "    # Improving performance using existing functions for specific angles\n",
    "    if (degree==0):\n",
    "        return img\n",
    "    elif (degree==90):\n",
    "        return np.rot90(img)\n",
    "    elif (degree==180):\n",
    "        return np.rot90(np.rot90(img))\n",
    "    elif (degree==270):\n",
    "        return np.rot90(np.rot90(np.rot90(img)))\n",
    "    else:\n",
    "        h = img.shape[0]\n",
    "        w = img.shape[1]\n",
    "\n",
    "        # Extend and rotate the image\n",
    "        ext_img = BuildExtendedImage(img)\n",
    "        rot_img = ndimage.rotate(ext_img, degree, reshape=False)\n",
    "\n",
    "        # Taking care of nummerical accuracies (not sure where they come from)\n",
    "\n",
    "        rot_img[rot_img<0] = 0.0\n",
    "        rot_img[rot_img>1] = 1.0\n",
    "\n",
    "        # Crop the image\n",
    "        if (len(img.shape) > 2):\n",
    "            rot_img = rot_img[h:2*h, w:2*w, :]\n",
    "        else:\n",
    "            rot_img = rot_img[h:2*h, w:2*w]\n",
    "        \n",
    "        return rot_img"
   ]
  },
  {
   "cell_type": "code",
   "execution_count": 9,
   "metadata": {},
   "outputs": [],
   "source": [
    "# Visualisation of the totally augmented data for the id_img-th image\n",
    "#PlotAugmentedData(imgs_raw, gt_imgs,id_img=1)"
   ]
  },
  {
   "cell_type": "code",
   "execution_count": 10,
   "metadata": {},
   "outputs": [],
   "source": [
    "# Augmenting the data\n",
    "angles = [0, 45]\n",
    "#aug_imgs, aug_gt_imgs = DataAugmentation(imgs, gt_imgs, angles, False)\n",
    "\n",
    "# For the logistic regression, no need to augment the data. However, for convenience later on, we name the data aug_XXX.\n",
    "aug_imgs, aug_gt_imgs = np.copy(imgs), np.copy(gt_imgs)"
   ]
  },
  {
   "cell_type": "markdown",
   "metadata": {},
   "source": [
    "### 4) Extract patches"
   ]
  },
  {
   "cell_type": "code",
   "execution_count": 34,
   "metadata": {
    "jupyter": {
     "source_hidden": true
    }
   },
   "outputs": [],
   "source": [
    "def ExtractPatch(imgs, gt_imgs, patch_size=16):\n",
    "    \"\"\" Extract patches of size patch_size from the input images.  \"\"\" \n",
    "    n = len(imgs)\n",
    "    \n",
    "    img_patches = [img_crop(imgs[i], patch_size, patch_size) for i in range(n)]\n",
    "    gt_patches = [img_crop(gt_imgs[i], patch_size, patch_size) for i in range(n)]\n",
    "\n",
    "\n",
    "    # Linearize list of patches\n",
    "    img_patches = np.asarray([img_patches[i][j] for i in range(len(img_patches)) for j in range(len(img_patches[i]))])\n",
    "    gt_patches =  np.asarray([gt_patches[i][j] for i in range(len(gt_patches)) for j in range(len(gt_patches[i]))])\n",
    "\n",
    "    return img_patches, gt_patches"
   ]
  },
  {
   "cell_type": "code",
   "execution_count": 35,
   "metadata": {},
   "outputs": [
    {
     "name": "stdout",
     "output_type": "stream",
     "text": [
      "img_patches has size  (62500, 16, 16, 6)\n",
      "gt_patches has size  (62500, 16, 16)\n"
     ]
    }
   ],
   "source": [
    "patch_size=16\n",
    "\n",
    "img_patches, gt_patches = ExtractPatch(aug_imgs, aug_gt_imgs, patch_size)\n",
    "\n",
    "print(\"img_patches has size \", img_patches.shape)\n",
    "print(\"gt_patches has size \", gt_patches.shape)"
   ]
  },
  {
   "cell_type": "markdown",
   "metadata": {},
   "source": [
    "### 5) Extract features"
   ]
  },
  {
   "cell_type": "code",
   "execution_count": 36,
   "metadata": {
    "jupyter": {
     "source_hidden": true
    }
   },
   "outputs": [],
   "source": [
    "# Extract 6-dimensional features consisting of average RGB color as well as variance\n",
    "def extract_features(img):\n",
    "    feat_m = np.mean(img, axis=(0,1))\n",
    "    feat_v = np.var(img, axis=(0,1))   \n",
    "    features = np.append(feat_m, feat_v)\n",
    "    return features\n",
    "\n",
    "# Extract 2-dimensional features consisting of average gray color as well as variance\n",
    "def extract_features_2d(img):\n",
    "    feat_m = np.mean(img)\n",
    "    feat_v = np.var(img)\n",
    "    feat = np.append(feat_m, feat_v)\n",
    "    return feat\n",
    "\n",
    "# Extract features for a given image\n",
    "def extract_img_features(filename):\n",
    "    img_raw = load_image(filename)\n",
    "    [img] = ChanelAugmentation([img_raw])\n",
    "    img_patches = img_crop(img, patch_size, patch_size)\n",
    "    X = np.asarray([extract_features(img_patches[i]) for i in range(len(img_patches))])\n",
    "    return X, img, img_raw\n",
    "\n",
    "def build_poly(X, degree, interaction_only=False):\n",
    "    \"\"\"polynomial basis functions for input data X, for j=0 up to j=degree. \"\"\"\n",
    "    poly = PolynomialFeatures(degree, interaction_only)\n",
    "    return poly.fit_transform(X)\n",
    "\n",
    "def value_to_class(v, foreground_threshold):\n",
    "    df = np.sum(v)\n",
    "    if df > foreground_threshold:\n",
    "        return 1\n",
    "    else:\n",
    "        return 0\n",
    "    \n",
    "def PrintFeatureStatistics(X, Y):\n",
    "    print('There are ' + str(X.shape[0]) + ' data points')\n",
    "    print('Each data point has ' + str(X.shape[1]) + \" features\")\n",
    "    #print('Number of classes = ' + str(np.max(Y)))  #TODO: fix, length(unique(Y)) \n",
    "    print('Number of classes = ' + str(len(np.unique(Y))))\n",
    "\n",
    "    Y0 = [i for i, j in enumerate(Y) if j == 0]\n",
    "    Y1 = [i for i, j in enumerate(Y) if j == 1]\n",
    "    print('Class 0 (background): ' + str(len(Y0)) + ' samples')\n",
    "    print('Class 1 (signal): ' + str(len(Y1)) + ' samples')\n",
    "    print('Proportion of road: ', len(Y1)/(len(Y1)+len(Y0)))\n",
    "    print('Proportion of background: ', len(Y0)/(len(Y1)+len(Y0)))\n",
    "\n",
    "def NormalizeFeatures(X):\n",
    "    \"\"\"Normalize X which must have shape (num_data_points,num_features)\"\"\"\n",
    "    m = np.mean(X,axis=0)\n",
    "    s = np.std(X,axis=0)\n",
    "    \n",
    "    return (X-m)/s"
   ]
  },
  {
   "cell_type": "code",
   "execution_count": 37,
   "metadata": {},
   "outputs": [],
   "source": [
    "# Compute features for each image patch\n",
    "foreground_threshold = 0.25 # percentage of pixels > 1 required to assign a foreground label to a patch\n",
    "\n",
    "X = np.asarray([extract_features(img_patches[i]) for i in range(len(img_patches))])\n",
    "Y = np.asarray([value_to_class(np.mean(gt_patches[i]), foreground_threshold) for i in range(len(gt_patches))])"
   ]
  },
  {
   "cell_type": "code",
   "execution_count": 38,
   "metadata": {},
   "outputs": [
    {
     "name": "stdout",
     "output_type": "stream",
     "text": [
      "There are 62500 data points\n",
      "Each data point has 12 features\n",
      "Number of classes = 2\n",
      "Class 0 (background): 46309 samples\n",
      "Class 1 (signal): 16191 samples\n",
      "Proportion of road:  0.259056\n",
      "Proportion of background:  0.740944\n"
     ]
    }
   ],
   "source": [
    "# Print feature statistics\n",
    "PrintFeatureStatistics(X, Y)"
   ]
  },
  {
   "cell_type": "markdown",
   "metadata": {},
   "source": [
    "### 6) Cross validation for logistic regression"
   ]
  },
  {
   "cell_type": "code",
   "execution_count": 39,
   "metadata": {},
   "outputs": [],
   "source": [
    "def build_k_indices(Y, k_fold, seed=7):\n",
    "    \"\"\"build k indices for k-fold.\"\"\"\n",
    "    num_row = Y.shape[0]\n",
    "    interval = int(num_row / k_fold)\n",
    "    np.random.seed(seed)\n",
    "    indices = np.random.permutation(num_row)\n",
    "    k_indices = [indices[k * interval: (k + 1) * interval] for k in range(k_fold)]\n",
    "    \n",
    "    return np.array(k_indices)\n",
    "\n",
    "def check_accuracy(Y_pred, Y_true):\n",
    "    \"\"\" Return the accuracy and the F1 score of the predicted y w.r.t. the true y\"\"\"\n",
    "    \n",
    "    N = Y_true.shape[0]\n",
    "    assert(N == Y_pred.shape[0])\n",
    "    accuracy = np.sum(Y_pred == Y_true) / N\n",
    "    \n",
    "    ones = np.ones_like(Y_true)   \n",
    "    precision = np.sum((Y_pred + Y_true) == 2*ones)/np.sum(Y_pred == ones)\n",
    "    recall=np.sum((Y_pred + Y_true) == 2*ones)/np.sum(Y_true == ones)\n",
    "    F1 = 2 * precision * recall / (precision + recall)\n",
    "    \n",
    "    return accuracy, F1\n",
    "\n",
    "\n",
    "def cross_validation(Y, X, k_indices, k, inv_lambda, degree, maxiter):\n",
    "    \"\"\"return the accuracy and the f1 score of the train and test data for cross validation\"\"\"\n",
    "    \n",
    "    # get k'th subgroup in test, others in train\n",
    "    te_indice = k_indices[k]\n",
    "    tr_indice = k_indices[~(np.arange(k_indices.shape[0]) == k)]\n",
    "    tr_indice = tr_indice.reshape(-1)\n",
    "    X_te = X[te_indice]\n",
    "    X_tr = X[tr_indice]\n",
    "    Y_te = Y[te_indice]\n",
    "    Y_tr = Y[tr_indice]\n",
    "    \n",
    "    # form data with polynomial degree\n",
    "    tX_tr = build_poly(X_tr, degree)\n",
    "    tX_te = build_poly(X_te, degree)\n",
    "    \n",
    "    logreg = linear_model.LogisticRegression(C=inv_lambda, max_iter=maxiter, class_weight=\"balanced\", solver=\"lbfgs\")\n",
    "    logreg.fit(tX_tr, Y_tr)\n",
    "    \n",
    "    Y_tr_pred = logreg.predict(tX_tr)\n",
    "    Y_te_pred = logreg.predict(tX_te)\n",
    "    \n",
    "    \n",
    "    # calculate the loss for train and test data\n",
    "    acc_tr, f1_tr = check_accuracy(Y_tr_pred, Y_tr)\n",
    "    acc_te, f1_te = check_accuracy(Y_te_pred, Y_te)\n",
    "    \n",
    "    return acc_tr, f1_tr, acc_te, f1_te\n",
    "\n",
    "\n",
    "def cross_validation_demo(Y, X, lambdas, degree=1, k_fold=4, seed=7, maxiter=10000):\n",
    "    \"\"\"Perform k_fold cross validation with several lambdas and plot the results \"\"\"\n",
    "    \n",
    "    inv_lambdas = np.power(lambdas, -1)\n",
    "\n",
    "    # split data in k fold\n",
    "    k_indices = build_k_indices(Y, k_fold, seed)\n",
    "    \n",
    "    # define lists to store the loss of training data and test data\n",
    "    acc_tr = []\n",
    "    f1_tr = []\n",
    "    acc_te = []\n",
    "    f1_te = []\n",
    "    \n",
    "    # cross validation\n",
    "    for C in inv_lambdas:\n",
    "        print(\"{}-fold cross-validation for lambda = {}\".format(k_fold,1/C))\n",
    "        # lists to store the temporary k_fold vaues for accuracy and f1 score.\n",
    "        acc_tr_tmp = []\n",
    "        f1_tr_tmp = []\n",
    "        acc_te_tmp = []\n",
    "        f1_te_tmp = []\n",
    "        \n",
    "        for k in range(k_fold):\n",
    "            acc_tr_k, f1_tr_k, acc_te_k, f1_te_k = cross_validation(Y, X, k_indices, k, C, degree, maxiter)\n",
    "            \n",
    "            acc_tr_tmp.append(acc_tr_k)\n",
    "            f1_tr_tmp.append(f1_tr_k)\n",
    "            acc_te_tmp.append(acc_te_k)\n",
    "            f1_te_tmp.append(f1_te_k)\n",
    "            \n",
    "        acc_tr.append(np.mean(acc_tr_tmp))\n",
    "        f1_tr.append(np.mean(f1_tr_tmp))\n",
    "        acc_te.append(np.mean(acc_te_tmp))\n",
    "        f1_te.append(np.mean(f1_te_tmp))\n",
    "\n",
    "    # plot the results (accuracy and f1 vs lambda)\n",
    "    cross_validation_visualization(lambdas, acc_tr, f1_tr, acc_te, f1_te, k_fold, degree)\n",
    "    \n",
    "def cross_validation_visualization(lambdas, acc_tr, f1_tr, acc_te, f1_te, k_fold, degree):\n",
    "    \"\"\"visualization of the accuracy and the f1 score for the train data and the test data.\"\"\"\n",
    "    fig = plt.figure()\n",
    "    fig.set_size_inches(12,4)\n",
    "    ax_acc = fig.add_subplot(1, 2, 1)\n",
    "    ax_f1 = fig.add_subplot(1, 2, 2)\n",
    "    \n",
    "    ax_acc.set_xlabel('lambda')\n",
    "    ax_acc.set_ylabel('accuracy')\n",
    "    ax_acc.semilogx(lambdas, acc_tr, marker=\".\", color='b', label='train accuracy')\n",
    "    ax_acc.semilogx(lambdas, acc_te, marker=\".\", color='r', label='test accuracy')\n",
    "    ax_acc.set_title('Accuracy')           \n",
    "    ax_acc.grid(True)\n",
    "    ax_acc.legend(loc=2)\n",
    "    \n",
    "    ax_f1.set_xlabel('lambda')\n",
    "    ax_f1.set_ylabel('f1 score')\n",
    "    ax_f1.semilogx(lambdas, f1_tr, marker=\".\", color='b', label='train f1 score')\n",
    "    ax_f1.semilogx(lambdas, f1_te, marker=\".\", color='r', label='test f1 score')\n",
    "    ax_f1.set_title('F1 score')           \n",
    "    ax_f1.grid(True)\n",
    "    ax_f1.legend(loc=2)\n",
    "    \n",
    "    fig.savefig('Figures/cross_validation_d{}_kf{}_n{}'.format(degree, k_fold, n))"
   ]
  },
  {
   "cell_type": "code",
   "execution_count": 40,
   "metadata": {
    "collapsed": true,
    "jupyter": {
     "outputs_hidden": true
    }
   },
   "outputs": [
    {
     "name": "stdout",
     "output_type": "stream",
     "text": [
      "2-fold cross-validation for lambda = 1e-15\n"
     ]
    },
    {
     "ename": "KeyboardInterrupt",
     "evalue": "",
     "output_type": "error",
     "traceback": [
      "\u001b[0;31m---------------------------------------------------------------------------\u001b[0m",
      "\u001b[0;31mKeyboardInterrupt\u001b[0m                         Traceback (most recent call last)",
      "\u001b[0;32m<ipython-input-40-425c21c50f7b>\u001b[0m in \u001b[0;36m<module>\u001b[0;34m\u001b[0m\n\u001b[1;32m      4\u001b[0m \u001b[0mk_fold\u001b[0m \u001b[0;34m=\u001b[0m \u001b[0;36m2\u001b[0m\u001b[0;34m\u001b[0m\u001b[0;34m\u001b[0m\u001b[0m\n\u001b[1;32m      5\u001b[0m \u001b[0;34m\u001b[0m\u001b[0m\n\u001b[0;32m----> 6\u001b[0;31m \u001b[0mcross_validation_demo\u001b[0m\u001b[0;34m(\u001b[0m\u001b[0mY\u001b[0m\u001b[0;34m,\u001b[0m \u001b[0mX\u001b[0m\u001b[0;34m,\u001b[0m \u001b[0mlambdas\u001b[0m\u001b[0;34m,\u001b[0m \u001b[0mtest_degree\u001b[0m\u001b[0;34m,\u001b[0m \u001b[0mk_fold\u001b[0m\u001b[0;34m,\u001b[0m \u001b[0mseed\u001b[0m\u001b[0;34m=\u001b[0m\u001b[0;36m345\u001b[0m\u001b[0;34m,\u001b[0m \u001b[0mmaxiter\u001b[0m\u001b[0;34m=\u001b[0m\u001b[0;36m10000000\u001b[0m\u001b[0;34m)\u001b[0m\u001b[0;34m\u001b[0m\u001b[0;34m\u001b[0m\u001b[0m\n\u001b[0m",
      "\u001b[0;32m<ipython-input-39-4786a10e6a2b>\u001b[0m in \u001b[0;36mcross_validation_demo\u001b[0;34m(Y, X, lambdas, degree, k_fold, seed, maxiter)\u001b[0m\n\u001b[1;32m     78\u001b[0m \u001b[0;34m\u001b[0m\u001b[0m\n\u001b[1;32m     79\u001b[0m         \u001b[0;32mfor\u001b[0m \u001b[0mk\u001b[0m \u001b[0;32min\u001b[0m \u001b[0mrange\u001b[0m\u001b[0;34m(\u001b[0m\u001b[0mk_fold\u001b[0m\u001b[0;34m)\u001b[0m\u001b[0;34m:\u001b[0m\u001b[0;34m\u001b[0m\u001b[0;34m\u001b[0m\u001b[0m\n\u001b[0;32m---> 80\u001b[0;31m             \u001b[0macc_tr_k\u001b[0m\u001b[0;34m,\u001b[0m \u001b[0mf1_tr_k\u001b[0m\u001b[0;34m,\u001b[0m \u001b[0macc_te_k\u001b[0m\u001b[0;34m,\u001b[0m \u001b[0mf1_te_k\u001b[0m \u001b[0;34m=\u001b[0m \u001b[0mcross_validation\u001b[0m\u001b[0;34m(\u001b[0m\u001b[0mY\u001b[0m\u001b[0;34m,\u001b[0m \u001b[0mX\u001b[0m\u001b[0;34m,\u001b[0m \u001b[0mk_indices\u001b[0m\u001b[0;34m,\u001b[0m \u001b[0mk\u001b[0m\u001b[0;34m,\u001b[0m \u001b[0mC\u001b[0m\u001b[0;34m,\u001b[0m \u001b[0mdegree\u001b[0m\u001b[0;34m,\u001b[0m \u001b[0mmaxiter\u001b[0m\u001b[0;34m)\u001b[0m\u001b[0;34m\u001b[0m\u001b[0;34m\u001b[0m\u001b[0m\n\u001b[0m\u001b[1;32m     81\u001b[0m \u001b[0;34m\u001b[0m\u001b[0m\n\u001b[1;32m     82\u001b[0m             \u001b[0macc_tr_tmp\u001b[0m\u001b[0;34m.\u001b[0m\u001b[0mappend\u001b[0m\u001b[0;34m(\u001b[0m\u001b[0macc_tr_k\u001b[0m\u001b[0;34m)\u001b[0m\u001b[0;34m\u001b[0m\u001b[0;34m\u001b[0m\u001b[0m\n",
      "\u001b[0;32m<ipython-input-39-4786a10e6a2b>\u001b[0m in \u001b[0;36mcross_validation\u001b[0;34m(Y, X, k_indices, k, inv_lambda, degree, maxiter)\u001b[0m\n\u001b[1;32m     41\u001b[0m \u001b[0;34m\u001b[0m\u001b[0m\n\u001b[1;32m     42\u001b[0m     \u001b[0mlogreg\u001b[0m \u001b[0;34m=\u001b[0m \u001b[0mlinear_model\u001b[0m\u001b[0;34m.\u001b[0m\u001b[0mLogisticRegression\u001b[0m\u001b[0;34m(\u001b[0m\u001b[0mC\u001b[0m\u001b[0;34m=\u001b[0m\u001b[0minv_lambda\u001b[0m\u001b[0;34m,\u001b[0m \u001b[0mmax_iter\u001b[0m\u001b[0;34m=\u001b[0m\u001b[0mmaxiter\u001b[0m\u001b[0;34m,\u001b[0m \u001b[0mclass_weight\u001b[0m\u001b[0;34m=\u001b[0m\u001b[0;34m\"balanced\"\u001b[0m\u001b[0;34m,\u001b[0m \u001b[0msolver\u001b[0m\u001b[0;34m=\u001b[0m\u001b[0;34m\"lbfgs\"\u001b[0m\u001b[0;34m)\u001b[0m\u001b[0;34m\u001b[0m\u001b[0;34m\u001b[0m\u001b[0m\n\u001b[0;32m---> 43\u001b[0;31m     \u001b[0mlogreg\u001b[0m\u001b[0;34m.\u001b[0m\u001b[0mfit\u001b[0m\u001b[0;34m(\u001b[0m\u001b[0mtX_tr\u001b[0m\u001b[0;34m,\u001b[0m \u001b[0mY_tr\u001b[0m\u001b[0;34m)\u001b[0m\u001b[0;34m\u001b[0m\u001b[0;34m\u001b[0m\u001b[0m\n\u001b[0m\u001b[1;32m     44\u001b[0m \u001b[0;34m\u001b[0m\u001b[0m\n\u001b[1;32m     45\u001b[0m     \u001b[0mY_tr_pred\u001b[0m \u001b[0;34m=\u001b[0m \u001b[0mlogreg\u001b[0m\u001b[0;34m.\u001b[0m\u001b[0mpredict\u001b[0m\u001b[0;34m(\u001b[0m\u001b[0mtX_tr\u001b[0m\u001b[0;34m)\u001b[0m\u001b[0;34m\u001b[0m\u001b[0;34m\u001b[0m\u001b[0m\n",
      "\u001b[0;32m~/anaconda3/lib/python3.7/site-packages/sklearn/linear_model/logistic.py\u001b[0m in \u001b[0;36mfit\u001b[0;34m(self, X, y, sample_weight)\u001b[0m\n\u001b[1;32m   1604\u001b[0m                       \u001b[0mpenalty\u001b[0m\u001b[0;34m=\u001b[0m\u001b[0mpenalty\u001b[0m\u001b[0;34m,\u001b[0m \u001b[0mmax_squared_sum\u001b[0m\u001b[0;34m=\u001b[0m\u001b[0mmax_squared_sum\u001b[0m\u001b[0;34m,\u001b[0m\u001b[0;34m\u001b[0m\u001b[0;34m\u001b[0m\u001b[0m\n\u001b[1;32m   1605\u001b[0m                       sample_weight=sample_weight)\n\u001b[0;32m-> 1606\u001b[0;31m             for class_, warm_start_coef_ in zip(classes_, warm_start_coef))\n\u001b[0m\u001b[1;32m   1607\u001b[0m \u001b[0;34m\u001b[0m\u001b[0m\n\u001b[1;32m   1608\u001b[0m         \u001b[0mfold_coefs_\u001b[0m\u001b[0;34m,\u001b[0m \u001b[0m_\u001b[0m\u001b[0;34m,\u001b[0m \u001b[0mn_iter_\u001b[0m \u001b[0;34m=\u001b[0m \u001b[0mzip\u001b[0m\u001b[0;34m(\u001b[0m\u001b[0;34m*\u001b[0m\u001b[0mfold_coefs_\u001b[0m\u001b[0;34m)\u001b[0m\u001b[0;34m\u001b[0m\u001b[0;34m\u001b[0m\u001b[0m\n",
      "\u001b[0;32m~/anaconda3/lib/python3.7/site-packages/joblib/parallel.py\u001b[0m in \u001b[0;36m__call__\u001b[0;34m(self, iterable)\u001b[0m\n\u001b[1;32m    919\u001b[0m             \u001b[0;31m# remaining jobs.\u001b[0m\u001b[0;34m\u001b[0m\u001b[0;34m\u001b[0m\u001b[0;34m\u001b[0m\u001b[0m\n\u001b[1;32m    920\u001b[0m             \u001b[0mself\u001b[0m\u001b[0;34m.\u001b[0m\u001b[0m_iterating\u001b[0m \u001b[0;34m=\u001b[0m \u001b[0;32mFalse\u001b[0m\u001b[0;34m\u001b[0m\u001b[0;34m\u001b[0m\u001b[0m\n\u001b[0;32m--> 921\u001b[0;31m             \u001b[0;32mif\u001b[0m \u001b[0mself\u001b[0m\u001b[0;34m.\u001b[0m\u001b[0mdispatch_one_batch\u001b[0m\u001b[0;34m(\u001b[0m\u001b[0miterator\u001b[0m\u001b[0;34m)\u001b[0m\u001b[0;34m:\u001b[0m\u001b[0;34m\u001b[0m\u001b[0;34m\u001b[0m\u001b[0m\n\u001b[0m\u001b[1;32m    922\u001b[0m                 \u001b[0mself\u001b[0m\u001b[0;34m.\u001b[0m\u001b[0m_iterating\u001b[0m \u001b[0;34m=\u001b[0m \u001b[0mself\u001b[0m\u001b[0;34m.\u001b[0m\u001b[0m_original_iterator\u001b[0m \u001b[0;32mis\u001b[0m \u001b[0;32mnot\u001b[0m \u001b[0;32mNone\u001b[0m\u001b[0;34m\u001b[0m\u001b[0;34m\u001b[0m\u001b[0m\n\u001b[1;32m    923\u001b[0m \u001b[0;34m\u001b[0m\u001b[0m\n",
      "\u001b[0;32m~/anaconda3/lib/python3.7/site-packages/joblib/parallel.py\u001b[0m in \u001b[0;36mdispatch_one_batch\u001b[0;34m(self, iterator)\u001b[0m\n\u001b[1;32m    757\u001b[0m                 \u001b[0;32mreturn\u001b[0m \u001b[0;32mFalse\u001b[0m\u001b[0;34m\u001b[0m\u001b[0;34m\u001b[0m\u001b[0m\n\u001b[1;32m    758\u001b[0m             \u001b[0;32melse\u001b[0m\u001b[0;34m:\u001b[0m\u001b[0;34m\u001b[0m\u001b[0;34m\u001b[0m\u001b[0m\n\u001b[0;32m--> 759\u001b[0;31m                 \u001b[0mself\u001b[0m\u001b[0;34m.\u001b[0m\u001b[0m_dispatch\u001b[0m\u001b[0;34m(\u001b[0m\u001b[0mtasks\u001b[0m\u001b[0;34m)\u001b[0m\u001b[0;34m\u001b[0m\u001b[0;34m\u001b[0m\u001b[0m\n\u001b[0m\u001b[1;32m    760\u001b[0m                 \u001b[0;32mreturn\u001b[0m \u001b[0;32mTrue\u001b[0m\u001b[0;34m\u001b[0m\u001b[0;34m\u001b[0m\u001b[0m\n\u001b[1;32m    761\u001b[0m \u001b[0;34m\u001b[0m\u001b[0m\n",
      "\u001b[0;32m~/anaconda3/lib/python3.7/site-packages/joblib/parallel.py\u001b[0m in \u001b[0;36m_dispatch\u001b[0;34m(self, batch)\u001b[0m\n\u001b[1;32m    714\u001b[0m         \u001b[0;32mwith\u001b[0m \u001b[0mself\u001b[0m\u001b[0;34m.\u001b[0m\u001b[0m_lock\u001b[0m\u001b[0;34m:\u001b[0m\u001b[0;34m\u001b[0m\u001b[0;34m\u001b[0m\u001b[0m\n\u001b[1;32m    715\u001b[0m             \u001b[0mjob_idx\u001b[0m \u001b[0;34m=\u001b[0m \u001b[0mlen\u001b[0m\u001b[0;34m(\u001b[0m\u001b[0mself\u001b[0m\u001b[0;34m.\u001b[0m\u001b[0m_jobs\u001b[0m\u001b[0;34m)\u001b[0m\u001b[0;34m\u001b[0m\u001b[0;34m\u001b[0m\u001b[0m\n\u001b[0;32m--> 716\u001b[0;31m             \u001b[0mjob\u001b[0m \u001b[0;34m=\u001b[0m \u001b[0mself\u001b[0m\u001b[0;34m.\u001b[0m\u001b[0m_backend\u001b[0m\u001b[0;34m.\u001b[0m\u001b[0mapply_async\u001b[0m\u001b[0;34m(\u001b[0m\u001b[0mbatch\u001b[0m\u001b[0;34m,\u001b[0m \u001b[0mcallback\u001b[0m\u001b[0;34m=\u001b[0m\u001b[0mcb\u001b[0m\u001b[0;34m)\u001b[0m\u001b[0;34m\u001b[0m\u001b[0;34m\u001b[0m\u001b[0m\n\u001b[0m\u001b[1;32m    717\u001b[0m             \u001b[0;31m# A job can complete so quickly than its callback is\u001b[0m\u001b[0;34m\u001b[0m\u001b[0;34m\u001b[0m\u001b[0;34m\u001b[0m\u001b[0m\n\u001b[1;32m    718\u001b[0m             \u001b[0;31m# called before we get here, causing self._jobs to\u001b[0m\u001b[0;34m\u001b[0m\u001b[0;34m\u001b[0m\u001b[0;34m\u001b[0m\u001b[0m\n",
      "\u001b[0;32m~/anaconda3/lib/python3.7/site-packages/joblib/_parallel_backends.py\u001b[0m in \u001b[0;36mapply_async\u001b[0;34m(self, func, callback)\u001b[0m\n\u001b[1;32m    180\u001b[0m     \u001b[0;32mdef\u001b[0m \u001b[0mapply_async\u001b[0m\u001b[0;34m(\u001b[0m\u001b[0mself\u001b[0m\u001b[0;34m,\u001b[0m \u001b[0mfunc\u001b[0m\u001b[0;34m,\u001b[0m \u001b[0mcallback\u001b[0m\u001b[0;34m=\u001b[0m\u001b[0;32mNone\u001b[0m\u001b[0;34m)\u001b[0m\u001b[0;34m:\u001b[0m\u001b[0;34m\u001b[0m\u001b[0;34m\u001b[0m\u001b[0m\n\u001b[1;32m    181\u001b[0m         \u001b[0;34m\"\"\"Schedule a func to be run\"\"\"\u001b[0m\u001b[0;34m\u001b[0m\u001b[0;34m\u001b[0m\u001b[0m\n\u001b[0;32m--> 182\u001b[0;31m         \u001b[0mresult\u001b[0m \u001b[0;34m=\u001b[0m \u001b[0mImmediateResult\u001b[0m\u001b[0;34m(\u001b[0m\u001b[0mfunc\u001b[0m\u001b[0;34m)\u001b[0m\u001b[0;34m\u001b[0m\u001b[0;34m\u001b[0m\u001b[0m\n\u001b[0m\u001b[1;32m    183\u001b[0m         \u001b[0;32mif\u001b[0m \u001b[0mcallback\u001b[0m\u001b[0;34m:\u001b[0m\u001b[0;34m\u001b[0m\u001b[0;34m\u001b[0m\u001b[0m\n\u001b[1;32m    184\u001b[0m             \u001b[0mcallback\u001b[0m\u001b[0;34m(\u001b[0m\u001b[0mresult\u001b[0m\u001b[0;34m)\u001b[0m\u001b[0;34m\u001b[0m\u001b[0;34m\u001b[0m\u001b[0m\n",
      "\u001b[0;32m~/anaconda3/lib/python3.7/site-packages/joblib/_parallel_backends.py\u001b[0m in \u001b[0;36m__init__\u001b[0;34m(self, batch)\u001b[0m\n\u001b[1;32m    547\u001b[0m         \u001b[0;31m# Don't delay the application, to avoid keeping the input\u001b[0m\u001b[0;34m\u001b[0m\u001b[0;34m\u001b[0m\u001b[0;34m\u001b[0m\u001b[0m\n\u001b[1;32m    548\u001b[0m         \u001b[0;31m# arguments in memory\u001b[0m\u001b[0;34m\u001b[0m\u001b[0;34m\u001b[0m\u001b[0;34m\u001b[0m\u001b[0m\n\u001b[0;32m--> 549\u001b[0;31m         \u001b[0mself\u001b[0m\u001b[0;34m.\u001b[0m\u001b[0mresults\u001b[0m \u001b[0;34m=\u001b[0m \u001b[0mbatch\u001b[0m\u001b[0;34m(\u001b[0m\u001b[0;34m)\u001b[0m\u001b[0;34m\u001b[0m\u001b[0;34m\u001b[0m\u001b[0m\n\u001b[0m\u001b[1;32m    550\u001b[0m \u001b[0;34m\u001b[0m\u001b[0m\n\u001b[1;32m    551\u001b[0m     \u001b[0;32mdef\u001b[0m \u001b[0mget\u001b[0m\u001b[0;34m(\u001b[0m\u001b[0mself\u001b[0m\u001b[0;34m)\u001b[0m\u001b[0;34m:\u001b[0m\u001b[0;34m\u001b[0m\u001b[0;34m\u001b[0m\u001b[0m\n",
      "\u001b[0;32m~/anaconda3/lib/python3.7/site-packages/joblib/parallel.py\u001b[0m in \u001b[0;36m__call__\u001b[0;34m(self)\u001b[0m\n\u001b[1;32m    223\u001b[0m         \u001b[0;32mwith\u001b[0m \u001b[0mparallel_backend\u001b[0m\u001b[0;34m(\u001b[0m\u001b[0mself\u001b[0m\u001b[0;34m.\u001b[0m\u001b[0m_backend\u001b[0m\u001b[0;34m,\u001b[0m \u001b[0mn_jobs\u001b[0m\u001b[0;34m=\u001b[0m\u001b[0mself\u001b[0m\u001b[0;34m.\u001b[0m\u001b[0m_n_jobs\u001b[0m\u001b[0;34m)\u001b[0m\u001b[0;34m:\u001b[0m\u001b[0;34m\u001b[0m\u001b[0;34m\u001b[0m\u001b[0m\n\u001b[1;32m    224\u001b[0m             return [func(*args, **kwargs)\n\u001b[0;32m--> 225\u001b[0;31m                     for func, args, kwargs in self.items]\n\u001b[0m\u001b[1;32m    226\u001b[0m \u001b[0;34m\u001b[0m\u001b[0m\n\u001b[1;32m    227\u001b[0m     \u001b[0;32mdef\u001b[0m \u001b[0m__len__\u001b[0m\u001b[0;34m(\u001b[0m\u001b[0mself\u001b[0m\u001b[0;34m)\u001b[0m\u001b[0;34m:\u001b[0m\u001b[0;34m\u001b[0m\u001b[0;34m\u001b[0m\u001b[0m\n",
      "\u001b[0;32m~/anaconda3/lib/python3.7/site-packages/joblib/parallel.py\u001b[0m in \u001b[0;36m<listcomp>\u001b[0;34m(.0)\u001b[0m\n\u001b[1;32m    223\u001b[0m         \u001b[0;32mwith\u001b[0m \u001b[0mparallel_backend\u001b[0m\u001b[0;34m(\u001b[0m\u001b[0mself\u001b[0m\u001b[0;34m.\u001b[0m\u001b[0m_backend\u001b[0m\u001b[0;34m,\u001b[0m \u001b[0mn_jobs\u001b[0m\u001b[0;34m=\u001b[0m\u001b[0mself\u001b[0m\u001b[0;34m.\u001b[0m\u001b[0m_n_jobs\u001b[0m\u001b[0;34m)\u001b[0m\u001b[0;34m:\u001b[0m\u001b[0;34m\u001b[0m\u001b[0;34m\u001b[0m\u001b[0m\n\u001b[1;32m    224\u001b[0m             return [func(*args, **kwargs)\n\u001b[0;32m--> 225\u001b[0;31m                     for func, args, kwargs in self.items]\n\u001b[0m\u001b[1;32m    226\u001b[0m \u001b[0;34m\u001b[0m\u001b[0m\n\u001b[1;32m    227\u001b[0m     \u001b[0;32mdef\u001b[0m \u001b[0m__len__\u001b[0m\u001b[0;34m(\u001b[0m\u001b[0mself\u001b[0m\u001b[0;34m)\u001b[0m\u001b[0;34m:\u001b[0m\u001b[0;34m\u001b[0m\u001b[0;34m\u001b[0m\u001b[0m\n",
      "\u001b[0;32m~/anaconda3/lib/python3.7/site-packages/sklearn/linear_model/logistic.py\u001b[0m in \u001b[0;36m_logistic_regression_path\u001b[0;34m(X, y, pos_class, Cs, fit_intercept, max_iter, tol, verbose, solver, coef, class_weight, dual, penalty, intercept_scaling, multi_class, random_state, check_input, max_squared_sum, sample_weight, l1_ratio)\u001b[0m\n\u001b[1;32m    942\u001b[0m                 \u001b[0mfunc\u001b[0m\u001b[0;34m,\u001b[0m \u001b[0mw0\u001b[0m\u001b[0;34m,\u001b[0m \u001b[0mfprime\u001b[0m\u001b[0;34m=\u001b[0m\u001b[0;32mNone\u001b[0m\u001b[0;34m,\u001b[0m\u001b[0;34m\u001b[0m\u001b[0;34m\u001b[0m\u001b[0m\n\u001b[1;32m    943\u001b[0m                 \u001b[0margs\u001b[0m\u001b[0;34m=\u001b[0m\u001b[0;34m(\u001b[0m\u001b[0mX\u001b[0m\u001b[0;34m,\u001b[0m \u001b[0mtarget\u001b[0m\u001b[0;34m,\u001b[0m \u001b[0;36m1.\u001b[0m \u001b[0;34m/\u001b[0m \u001b[0mC\u001b[0m\u001b[0;34m,\u001b[0m \u001b[0msample_weight\u001b[0m\u001b[0;34m)\u001b[0m\u001b[0;34m,\u001b[0m\u001b[0;34m\u001b[0m\u001b[0;34m\u001b[0m\u001b[0m\n\u001b[0;32m--> 944\u001b[0;31m                 iprint=iprint, pgtol=tol, maxiter=max_iter)\n\u001b[0m\u001b[1;32m    945\u001b[0m             \u001b[0;32mif\u001b[0m \u001b[0minfo\u001b[0m\u001b[0;34m[\u001b[0m\u001b[0;34m\"warnflag\"\u001b[0m\u001b[0;34m]\u001b[0m \u001b[0;34m==\u001b[0m \u001b[0;36m1\u001b[0m\u001b[0;34m:\u001b[0m\u001b[0;34m\u001b[0m\u001b[0;34m\u001b[0m\u001b[0m\n\u001b[1;32m    946\u001b[0m                 warnings.warn(\"lbfgs failed to converge. Increase the number \"\n",
      "\u001b[0;32m~/anaconda3/lib/python3.7/site-packages/scipy/optimize/lbfgsb.py\u001b[0m in \u001b[0;36mfmin_l_bfgs_b\u001b[0;34m(func, x0, fprime, args, approx_grad, bounds, m, factr, pgtol, epsilon, iprint, maxfun, maxiter, disp, callback, maxls)\u001b[0m\n\u001b[1;32m    197\u001b[0m \u001b[0;34m\u001b[0m\u001b[0m\n\u001b[1;32m    198\u001b[0m     res = _minimize_lbfgsb(fun, x0, args=args, jac=jac, bounds=bounds,\n\u001b[0;32m--> 199\u001b[0;31m                            **opts)\n\u001b[0m\u001b[1;32m    200\u001b[0m     d = {'grad': res['jac'],\n\u001b[1;32m    201\u001b[0m          \u001b[0;34m'task'\u001b[0m\u001b[0;34m:\u001b[0m \u001b[0mres\u001b[0m\u001b[0;34m[\u001b[0m\u001b[0;34m'message'\u001b[0m\u001b[0;34m]\u001b[0m\u001b[0;34m,\u001b[0m\u001b[0;34m\u001b[0m\u001b[0;34m\u001b[0m\u001b[0m\n",
      "\u001b[0;32m~/anaconda3/lib/python3.7/site-packages/scipy/optimize/lbfgsb.py\u001b[0m in \u001b[0;36m_minimize_lbfgsb\u001b[0;34m(fun, x0, args, jac, bounds, disp, maxcor, ftol, gtol, eps, maxfun, maxiter, iprint, callback, maxls, **unknown_options)\u001b[0m\n\u001b[1;32m    333\u001b[0m             \u001b[0;31m# until the completion of the current minimization iteration.\u001b[0m\u001b[0;34m\u001b[0m\u001b[0;34m\u001b[0m\u001b[0;34m\u001b[0m\u001b[0m\n\u001b[1;32m    334\u001b[0m             \u001b[0;31m# Overwrite f and g:\u001b[0m\u001b[0;34m\u001b[0m\u001b[0;34m\u001b[0m\u001b[0;34m\u001b[0m\u001b[0m\n\u001b[0;32m--> 335\u001b[0;31m             \u001b[0mf\u001b[0m\u001b[0;34m,\u001b[0m \u001b[0mg\u001b[0m \u001b[0;34m=\u001b[0m \u001b[0mfunc_and_grad\u001b[0m\u001b[0;34m(\u001b[0m\u001b[0mx\u001b[0m\u001b[0;34m)\u001b[0m\u001b[0;34m\u001b[0m\u001b[0;34m\u001b[0m\u001b[0m\n\u001b[0m\u001b[1;32m    336\u001b[0m         \u001b[0;32melif\u001b[0m \u001b[0mtask_str\u001b[0m\u001b[0;34m.\u001b[0m\u001b[0mstartswith\u001b[0m\u001b[0;34m(\u001b[0m\u001b[0;34mb'NEW_X'\u001b[0m\u001b[0;34m)\u001b[0m\u001b[0;34m:\u001b[0m\u001b[0;34m\u001b[0m\u001b[0;34m\u001b[0m\u001b[0m\n\u001b[1;32m    337\u001b[0m             \u001b[0;31m# new iteration\u001b[0m\u001b[0;34m\u001b[0m\u001b[0;34m\u001b[0m\u001b[0;34m\u001b[0m\u001b[0m\n",
      "\u001b[0;32m~/anaconda3/lib/python3.7/site-packages/scipy/optimize/lbfgsb.py\u001b[0m in \u001b[0;36mfunc_and_grad\u001b[0;34m(x)\u001b[0m\n\u001b[1;32m    283\u001b[0m     \u001b[0;32melse\u001b[0m\u001b[0;34m:\u001b[0m\u001b[0;34m\u001b[0m\u001b[0;34m\u001b[0m\u001b[0m\n\u001b[1;32m    284\u001b[0m         \u001b[0;32mdef\u001b[0m \u001b[0mfunc_and_grad\u001b[0m\u001b[0;34m(\u001b[0m\u001b[0mx\u001b[0m\u001b[0;34m)\u001b[0m\u001b[0;34m:\u001b[0m\u001b[0;34m\u001b[0m\u001b[0;34m\u001b[0m\u001b[0m\n\u001b[0;32m--> 285\u001b[0;31m             \u001b[0mf\u001b[0m \u001b[0;34m=\u001b[0m \u001b[0mfun\u001b[0m\u001b[0;34m(\u001b[0m\u001b[0mx\u001b[0m\u001b[0;34m,\u001b[0m \u001b[0;34m*\u001b[0m\u001b[0margs\u001b[0m\u001b[0;34m)\u001b[0m\u001b[0;34m\u001b[0m\u001b[0;34m\u001b[0m\u001b[0m\n\u001b[0m\u001b[1;32m    286\u001b[0m             \u001b[0mg\u001b[0m \u001b[0;34m=\u001b[0m \u001b[0mjac\u001b[0m\u001b[0;34m(\u001b[0m\u001b[0mx\u001b[0m\u001b[0;34m,\u001b[0m \u001b[0;34m*\u001b[0m\u001b[0margs\u001b[0m\u001b[0;34m)\u001b[0m\u001b[0;34m\u001b[0m\u001b[0;34m\u001b[0m\u001b[0m\n\u001b[1;32m    287\u001b[0m             \u001b[0;32mreturn\u001b[0m \u001b[0mf\u001b[0m\u001b[0;34m,\u001b[0m \u001b[0mg\u001b[0m\u001b[0;34m\u001b[0m\u001b[0;34m\u001b[0m\u001b[0m\n",
      "\u001b[0;32m~/anaconda3/lib/python3.7/site-packages/scipy/optimize/optimize.py\u001b[0m in \u001b[0;36mfunction_wrapper\u001b[0;34m(*wrapper_args)\u001b[0m\n\u001b[1;32m    291\u001b[0m     \u001b[0;32mdef\u001b[0m \u001b[0mfunction_wrapper\u001b[0m\u001b[0;34m(\u001b[0m\u001b[0;34m*\u001b[0m\u001b[0mwrapper_args\u001b[0m\u001b[0;34m)\u001b[0m\u001b[0;34m:\u001b[0m\u001b[0;34m\u001b[0m\u001b[0;34m\u001b[0m\u001b[0m\n\u001b[1;32m    292\u001b[0m         \u001b[0mncalls\u001b[0m\u001b[0;34m[\u001b[0m\u001b[0;36m0\u001b[0m\u001b[0;34m]\u001b[0m \u001b[0;34m+=\u001b[0m \u001b[0;36m1\u001b[0m\u001b[0;34m\u001b[0m\u001b[0;34m\u001b[0m\u001b[0m\n\u001b[0;32m--> 293\u001b[0;31m         \u001b[0;32mreturn\u001b[0m \u001b[0mfunction\u001b[0m\u001b[0;34m(\u001b[0m\u001b[0;34m*\u001b[0m\u001b[0;34m(\u001b[0m\u001b[0mwrapper_args\u001b[0m \u001b[0;34m+\u001b[0m \u001b[0margs\u001b[0m\u001b[0;34m)\u001b[0m\u001b[0;34m)\u001b[0m\u001b[0;34m\u001b[0m\u001b[0;34m\u001b[0m\u001b[0m\n\u001b[0m\u001b[1;32m    294\u001b[0m \u001b[0;34m\u001b[0m\u001b[0m\n\u001b[1;32m    295\u001b[0m     \u001b[0;32mreturn\u001b[0m \u001b[0mncalls\u001b[0m\u001b[0;34m,\u001b[0m \u001b[0mfunction_wrapper\u001b[0m\u001b[0;34m\u001b[0m\u001b[0;34m\u001b[0m\u001b[0m\n",
      "\u001b[0;32m~/anaconda3/lib/python3.7/site-packages/scipy/optimize/optimize.py\u001b[0m in \u001b[0;36m__call__\u001b[0;34m(self, x, *args)\u001b[0m\n\u001b[1;32m     61\u001b[0m     \u001b[0;32mdef\u001b[0m \u001b[0m__call__\u001b[0m\u001b[0;34m(\u001b[0m\u001b[0mself\u001b[0m\u001b[0;34m,\u001b[0m \u001b[0mx\u001b[0m\u001b[0;34m,\u001b[0m \u001b[0;34m*\u001b[0m\u001b[0margs\u001b[0m\u001b[0;34m)\u001b[0m\u001b[0;34m:\u001b[0m\u001b[0;34m\u001b[0m\u001b[0;34m\u001b[0m\u001b[0m\n\u001b[1;32m     62\u001b[0m         \u001b[0mself\u001b[0m\u001b[0;34m.\u001b[0m\u001b[0mx\u001b[0m \u001b[0;34m=\u001b[0m \u001b[0mnumpy\u001b[0m\u001b[0;34m.\u001b[0m\u001b[0masarray\u001b[0m\u001b[0;34m(\u001b[0m\u001b[0mx\u001b[0m\u001b[0;34m)\u001b[0m\u001b[0;34m.\u001b[0m\u001b[0mcopy\u001b[0m\u001b[0;34m(\u001b[0m\u001b[0;34m)\u001b[0m\u001b[0;34m\u001b[0m\u001b[0;34m\u001b[0m\u001b[0m\n\u001b[0;32m---> 63\u001b[0;31m         \u001b[0mfg\u001b[0m \u001b[0;34m=\u001b[0m \u001b[0mself\u001b[0m\u001b[0;34m.\u001b[0m\u001b[0mfun\u001b[0m\u001b[0;34m(\u001b[0m\u001b[0mx\u001b[0m\u001b[0;34m,\u001b[0m \u001b[0;34m*\u001b[0m\u001b[0margs\u001b[0m\u001b[0;34m)\u001b[0m\u001b[0;34m\u001b[0m\u001b[0;34m\u001b[0m\u001b[0m\n\u001b[0m\u001b[1;32m     64\u001b[0m         \u001b[0mself\u001b[0m\u001b[0;34m.\u001b[0m\u001b[0mjac\u001b[0m \u001b[0;34m=\u001b[0m \u001b[0mfg\u001b[0m\u001b[0;34m[\u001b[0m\u001b[0;36m1\u001b[0m\u001b[0;34m]\u001b[0m\u001b[0;34m\u001b[0m\u001b[0;34m\u001b[0m\u001b[0m\n\u001b[1;32m     65\u001b[0m         \u001b[0;32mreturn\u001b[0m \u001b[0mfg\u001b[0m\u001b[0;34m[\u001b[0m\u001b[0;36m0\u001b[0m\u001b[0;34m]\u001b[0m\u001b[0;34m\u001b[0m\u001b[0;34m\u001b[0m\u001b[0m\n",
      "\u001b[0;32m~/anaconda3/lib/python3.7/site-packages/sklearn/linear_model/logistic.py\u001b[0m in \u001b[0;36m_logistic_loss_and_grad\u001b[0;34m(w, X, y, alpha, sample_weight)\u001b[0m\n\u001b[1;32m    122\u001b[0m     \u001b[0mz0\u001b[0m \u001b[0;34m=\u001b[0m \u001b[0msample_weight\u001b[0m \u001b[0;34m*\u001b[0m \u001b[0;34m(\u001b[0m\u001b[0mz\u001b[0m \u001b[0;34m-\u001b[0m \u001b[0;36m1\u001b[0m\u001b[0;34m)\u001b[0m \u001b[0;34m*\u001b[0m \u001b[0my\u001b[0m\u001b[0;34m\u001b[0m\u001b[0;34m\u001b[0m\u001b[0m\n\u001b[1;32m    123\u001b[0m \u001b[0;34m\u001b[0m\u001b[0m\n\u001b[0;32m--> 124\u001b[0;31m     \u001b[0mgrad\u001b[0m\u001b[0;34m[\u001b[0m\u001b[0;34m:\u001b[0m\u001b[0mn_features\u001b[0m\u001b[0;34m]\u001b[0m \u001b[0;34m=\u001b[0m \u001b[0msafe_sparse_dot\u001b[0m\u001b[0;34m(\u001b[0m\u001b[0mX\u001b[0m\u001b[0;34m.\u001b[0m\u001b[0mT\u001b[0m\u001b[0;34m,\u001b[0m \u001b[0mz0\u001b[0m\u001b[0;34m)\u001b[0m \u001b[0;34m+\u001b[0m \u001b[0malpha\u001b[0m \u001b[0;34m*\u001b[0m \u001b[0mw\u001b[0m\u001b[0;34m\u001b[0m\u001b[0;34m\u001b[0m\u001b[0m\n\u001b[0m\u001b[1;32m    125\u001b[0m \u001b[0;34m\u001b[0m\u001b[0m\n\u001b[1;32m    126\u001b[0m     \u001b[0;31m# Case where we fit the intercept.\u001b[0m\u001b[0;34m\u001b[0m\u001b[0;34m\u001b[0m\u001b[0;34m\u001b[0m\u001b[0m\n",
      "\u001b[0;32m~/anaconda3/lib/python3.7/site-packages/sklearn/utils/extmath.py\u001b[0m in \u001b[0;36msafe_sparse_dot\u001b[0;34m(a, b, dense_output)\u001b[0m\n\u001b[1;32m    140\u001b[0m         \u001b[0;32mreturn\u001b[0m \u001b[0mret\u001b[0m\u001b[0;34m\u001b[0m\u001b[0;34m\u001b[0m\u001b[0m\n\u001b[1;32m    141\u001b[0m     \u001b[0;32melse\u001b[0m\u001b[0;34m:\u001b[0m\u001b[0;34m\u001b[0m\u001b[0;34m\u001b[0m\u001b[0m\n\u001b[0;32m--> 142\u001b[0;31m         \u001b[0;32mreturn\u001b[0m \u001b[0mnp\u001b[0m\u001b[0;34m.\u001b[0m\u001b[0mdot\u001b[0m\u001b[0;34m(\u001b[0m\u001b[0ma\u001b[0m\u001b[0;34m,\u001b[0m \u001b[0mb\u001b[0m\u001b[0;34m)\u001b[0m\u001b[0;34m\u001b[0m\u001b[0;34m\u001b[0m\u001b[0m\n\u001b[0m\u001b[1;32m    143\u001b[0m \u001b[0;34m\u001b[0m\u001b[0m\n\u001b[1;32m    144\u001b[0m \u001b[0;34m\u001b[0m\u001b[0m\n",
      "\u001b[0;31mKeyboardInterrupt\u001b[0m: "
     ]
    }
   ],
   "source": [
    "# Range for cross-validation\n",
    "lambdas = np.logspace(-15, -14, 2)\n",
    "test_degree = 3\n",
    "k_fold = 2\n",
    "\n",
    "cross_validation_demo(Y, X, lambdas, test_degree, k_fold, seed=345, maxiter=10000000)"
   ]
  },
  {
   "cell_type": "markdown",
   "metadata": {},
   "source": [
    "### 7) Model Training"
   ]
  },
  {
   "cell_type": "code",
   "execution_count": 41,
   "metadata": {},
   "outputs": [],
   "source": [
    "# Convert array of labels to an image\n",
    "\n",
    "def label_to_img(imgwidth, imgheight, w, h, labels):\n",
    "    im = np.zeros([imgwidth, imgheight])\n",
    "    idx = 0\n",
    "    for i in range(0,imgheight,h):\n",
    "        for j in range(0,imgwidth,w):\n",
    "            im[j:j+w, i:i+h] = labels[idx]\n",
    "            idx = idx + 1\n",
    "    return im\n",
    "\n",
    "def make_img_overlay(img, predicted_img):\n",
    "    w = img.shape[0]\n",
    "    h = img.shape[1]\n",
    "    color_mask = np.zeros((w, h, 3), dtype=np.uint8)\n",
    "    color_mask[:,:,0] = predicted_img*255\n",
    "\n",
    "    img8 = img_float_to_uint8(img)\n",
    "    background = Image.fromarray(img8, 'RGB').convert(\"RGBA\")\n",
    "    overlay = Image.fromarray(color_mask, 'RGB').convert(\"RGBA\")\n",
    "    new_img = Image.blend(background, overlay, 0.2)\n",
    "    return new_img\n",
    "\n",
    "def TruePositiveRate(tX, Y, logregModel):\n",
    "    \"\"\"Compute the true positive rate of the lgistic regression model logregModel on \n",
    "       the training augmented data tX.\n",
    "    \"\"\"\n",
    "    # Predict on the training set\n",
    "    Y_pred = logregModel.predict(tX)\n",
    "    \n",
    "    # Get non-zeros in prediction and grountruth arrays\n",
    "    Y_predn = np.nonzero(Y_pred)[0]\n",
    "    Yn = np.nonzero(Y)[0]\n",
    "\n",
    "    TPR = len(list(set(Yn) & set(Y_predn))) / float(len(Yn))\n",
    "    return TPR\n",
    "\n",
    "def VisualizePrediction(logregModel, degree, img_path, patch_size=16):\n",
    "\n",
    "    Xi, img_i, img_i_raw = extract_img_features(imagedir + files[img_idx])\n",
    "    tXi = build_poly(Xi, degree)\n",
    "    Yi_pred = logregModel.predict(tXi)\n",
    "\n",
    "    # Display prediction as an image\n",
    "\n",
    "    w = img_i.shape[0]\n",
    "    h = img_i.shape[1]\n",
    "    predicted_im = label_to_img(w, h, patch_size, patch_size, Yi_pred)\n",
    "    cimg = concatenate_images(img_i_raw, predicted_im)\n",
    "    fig1 = plt.figure(figsize=(8, 4)) \n",
    "    fig1.suptitle(img_path + \"\\nImage (left) and prediction (right)\")\n",
    "    plt.imshow(cimg, cmap='Greys_r')\n",
    "    "
   ]
  },
  {
   "cell_type": "code",
   "execution_count": null,
   "metadata": {},
   "outputs": [],
   "source": [
    "# Model training\n",
    "degree = 3\n",
    "model_final = linear_model.LogisticRegression(C=1e17, max_iter=10000000, class_weight=\"balanced\", solver=\"lbfgs\")\n",
    "#model_final = svm.SVC() \n",
    "tX = build_poly(X, degree)\n",
    "model_final.fit(tX, Y)"
   ]
  },
  {
   "cell_type": "code",
   "execution_count": null,
   "metadata": {},
   "outputs": [],
   "source": [
    "# Model accuracy over the train data\n",
    "\n",
    "TPR = TruePositiveRate(tX, Y, model_final)\n",
    "print('True positive rate = ' + str(TPR))\n",
    "\n",
    "# Visualizing the prediction of the img_idx-th image\n",
    "img_idx = 9\n",
    "img_path = imagedir + files[img_idx]\n",
    "\n",
    "VisualizePrediction(model_final, degree, img_path)"
   ]
  },
  {
   "cell_type": "markdown",
   "metadata": {},
   "source": [
    "### 8) Post-processing\n",
    "To Do..."
   ]
  },
  {
   "cell_type": "code",
   "execution_count": null,
   "metadata": {},
   "outputs": [],
   "source": [
    "def PostProcessing(predicted_mask):\n",
    "    \"\"\" Post-processing of the predicted mask\"\"\"\n",
    "    #TODO\n",
    "    return predicted_mask"
   ]
  },
  {
   "cell_type": "code",
   "execution_count": null,
   "metadata": {},
   "outputs": [],
   "source": []
  },
  {
   "cell_type": "markdown",
   "metadata": {},
   "source": [
    "### 9) Prediction on the test data and creation of the submission file"
   ]
  },
  {
   "cell_type": "code",
   "execution_count": null,
   "metadata": {},
   "outputs": [],
   "source": [
    "def CreateSubmission(logregModel, degree, test_rootdir, test_files, patch_size=16, subdir=\"Submissions/\", preddir=\"Predictions/\"):\n",
    "    \"\"\" Create a submission file using the trained logregModel.\"\"\"\n",
    "    prediction_filenames = []\n",
    "    \n",
    "    # Prediction of all the test images\n",
    "    for i  in range(len(test_files)):\n",
    "        # Image path of the i-th image\n",
    "        img_path = test_rootdir + test_files[i] + \"/\" + test_files[i] + \".png\"\n",
    "        \n",
    "        # Extraction of the data feature\n",
    "        Xi, img, img_raw = extract_img_features(img_path)\n",
    "        \n",
    "        # Data augmentation using polynomial basis\n",
    "        tXi = build_poly(Xi, degree)\n",
    "        \n",
    "        # Prediction of the i-th image using the trained model logregModel\n",
    "        Yi_pred = logregModel.predict(tXi)\n",
    "        \n",
    "        # Construction of the mask\n",
    "        w = img.shape[0]\n",
    "        h = img.shape[1]\n",
    "        predicted_mask = label_to_img(w, h, patch_size, patch_size, Yi_pred)\n",
    "        \n",
    "        # Post-processing of the mask: #TODO\n",
    "        postprocessed_mask = PostProcessing(predicted_mask)\n",
    "        \n",
    "        # Creating the name for the predicted mask\n",
    "        img_id = int(re.search(r\"\\d+\", test_files[i]).group(0))\n",
    "        prediction_filenames += [preddir + \"prediction_\" + \"%.3d\" % img_id + \".png\"]\n",
    "        \n",
    "        # Saving the masks in the preddir folder\n",
    "        Image.fromarray(binary_to_uint8(predicted_mask)).save(prediction_filenames[i])  \n",
    "    \n",
    "    # Create unique filename\n",
    "    now = datetime.now()\n",
    "    dt_string = now.strftime(\"%H_%M__%d_%m\")\n",
    "    submission_filename = subdir + \"submission_RLR_\" + dt_string + \".csv\"\n",
    "    \n",
    "    # Create submission\n",
    "    masks_to_submission(submission_filename, prediction_filenames)"
   ]
  },
  {
   "cell_type": "code",
   "execution_count": null,
   "metadata": {},
   "outputs": [],
   "source": [
    "test_rootdir = \"Datasets/test_set_images/\"\n",
    "test_files = os.listdir(\"Datasets/test_set_images/\")\n",
    "\n",
    "CreateSubmission(model_final, degree, test_rootdir, test_files) "
   ]
  },
  {
   "cell_type": "markdown",
   "metadata": {},
   "source": [
    " "
   ]
  }
 ],
 "metadata": {
  "kernelspec": {
   "display_name": "Python 3",
   "language": "python",
   "name": "python3"
  },
  "language_info": {
   "codemirror_mode": {
    "name": "ipython",
    "version": 3
   },
   "file_extension": ".py",
   "mimetype": "text/x-python",
   "name": "python",
   "nbconvert_exporter": "python",
   "pygments_lexer": "ipython3",
   "version": "3.7.3"
  }
 },
 "nbformat": 4,
 "nbformat_minor": 4
}
