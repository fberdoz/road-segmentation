{
 "cells": [
  {
   "cell_type": "code",
   "execution_count": 1,
   "metadata": {},
   "outputs": [
    {
     "ename": "ModuleNotFoundError",
     "evalue": "No module named 'helpers'",
     "output_type": "error",
     "traceback": [
      "\u001b[1;31m---------------------------------------------------------------------------\u001b[0m",
      "\u001b[1;31mModuleNotFoundError\u001b[0m                       Traceback (most recent call last)",
      "\u001b[1;32m<ipython-input-1-74b8ff41ed6c>\u001b[0m in \u001b[0;36m<module>\u001b[1;34m\u001b[0m\n\u001b[0;32m      8\u001b[0m \u001b[1;32mimport\u001b[0m \u001b[0mtensorflow\u001b[0m \u001b[1;32mas\u001b[0m \u001b[0mtf\u001b[0m\u001b[1;33m\u001b[0m\u001b[1;33m\u001b[0m\u001b[0m\n\u001b[0;32m      9\u001b[0m \u001b[1;32mfrom\u001b[0m \u001b[0mtensorflow\u001b[0m\u001b[1;33m.\u001b[0m\u001b[0mpython\u001b[0m \u001b[1;32mimport\u001b[0m \u001b[0mkeras\u001b[0m\u001b[1;33m\u001b[0m\u001b[1;33m\u001b[0m\u001b[0m\n\u001b[1;32m---> 10\u001b[1;33m \u001b[1;32mfrom\u001b[0m \u001b[0mhelpers\u001b[0m \u001b[1;32mimport\u001b[0m \u001b[1;33m*\u001b[0m\u001b[1;33m\u001b[0m\u001b[1;33m\u001b[0m\u001b[0m\n\u001b[0m\u001b[0;32m     11\u001b[0m \u001b[1;32mfrom\u001b[0m \u001b[0mImageProcessing\u001b[0m \u001b[1;32mimport\u001b[0m \u001b[1;33m*\u001b[0m\u001b[1;33m\u001b[0m\u001b[1;33m\u001b[0m\u001b[0m\n\u001b[0;32m     12\u001b[0m \u001b[1;32mfrom\u001b[0m \u001b[0mPIL\u001b[0m \u001b[1;32mimport\u001b[0m \u001b[0mImage\u001b[0m\u001b[1;33m\u001b[0m\u001b[1;33m\u001b[0m\u001b[0m\n",
      "\u001b[1;31mModuleNotFoundError\u001b[0m: No module named 'helpers'"
     ]
    }
   ],
   "source": [
    "%matplotlib inline\n",
    "import matplotlib.image as mpimg\n",
    "import numpy as np\n",
    "import matplotlib.pyplot as plt\n",
    "import os,sys\n",
    "import pickle\n",
    "import cv2\n",
    "import tensorflow as tf\n",
    "from tensorflow.python import keras\n",
    "from proj2_helpers import *\n",
    "from ImageProcessing import *\n",
    "from PIL import Image\n",
    "from scipy import ndimage, signal\n",
    "\n",
    "%load_ext autoreload\n",
    "%autoreload 2"
   ]
  },
  {
   "cell_type": "markdown",
   "metadata": {},
   "source": [
    "# 1. Loading  Data"
   ]
  },
  {
   "cell_type": "markdown",
   "metadata": {},
   "source": [
    "1.1 Loading Train Data"
   ]
  },
  {
   "cell_type": "code",
   "execution_count": 3,
   "metadata": {},
   "outputs": [
    {
     "name": "stdout",
     "output_type": "stream",
     "text": [
      "Loaded X_1D_patch16_channels14 and Y_1D_patch16_channels14\n",
      "X shape is (500000, 14)\n",
      "Y shape is (500000,)\n"
     ]
    }
   ],
   "source": [
    "filename_X = \"X_1D_patch16_channels14\"\n",
    "filename_Y = \"Y_1D_patch16_channels14\"\n",
    "\n",
    "infile_X = open(filename_X + \".pickle\",\"rb\")\n",
    "X = pickle.load(infile_X)\n",
    "infile_X.close()\n",
    "\n",
    "infile_Y = open(filename_Y + \".pickle\",\"rb\")\n",
    "Y = pickle.load(infile_Y)\n",
    "infile_Y.close()\n",
    "\n",
    "print(\"Loaded \" + filename_X + \" and \" + filename_Y)\n",
    "print(\"X shape is\", X.shape)\n",
    "print(\"Y shape is\", Y.shape)"
   ]
  },
  {
   "cell_type": "markdown",
   "metadata": {},
   "source": [
    "1.2 Load Model"
   ]
  },
  {
   "cell_type": "code",
   "execution_count": 4,
   "metadata": {},
   "outputs": [],
   "source": [
    "modelname = \"Model_1D_patch16_channels14\"\n",
    "\n",
    "model = keras.models.load_model(modelname + \".h5\")"
   ]
  },
  {
   "cell_type": "markdown",
   "metadata": {},
   "source": [
    "# 2. Training Neural Net"
   ]
  },
  {
   "cell_type": "markdown",
   "metadata": {},
   "source": [
    "2.2 Normalization of data"
   ]
  },
  {
   "cell_type": "code",
   "execution_count": 4,
   "metadata": {},
   "outputs": [
    {
     "name": "stdout",
     "output_type": "stream",
     "text": [
      "x_train shape: (500000, 14)\n",
      "y_train shape: (500000, 2)\n"
     ]
    }
   ],
   "source": [
    "x_train = X\n",
    "y_train = keras.utils.to_categorical(Y,num_classes=2)\n",
    "\n",
    "print(\"x_train shape:\",x_train.shape)\n",
    "print(\"y_train shape:\", y_train.shape)\n",
    "del X, Y"
   ]
  },
  {
   "cell_type": "markdown",
   "metadata": {},
   "source": [
    "2.3 Initialization of 1D neural network without convolution"
   ]
  },
  {
   "cell_type": "code",
   "execution_count": 5,
   "metadata": {},
   "outputs": [
    {
     "name": "stdout",
     "output_type": "stream",
     "text": [
      "Model: \"sequential\"\n",
      "_________________________________________________________________\n",
      "Layer (type)                 Output Shape              Param #   \n",
      "=================================================================\n",
      "dense (Dense)                (None, 100)               1500      \n",
      "_________________________________________________________________\n",
      "dense_1 (Dense)              (None, 100)               10100     \n",
      "_________________________________________________________________\n",
      "dense_2 (Dense)              (None, 100)               10100     \n",
      "_________________________________________________________________\n",
      "dense_3 (Dense)              (None, 2)                 202       \n",
      "=================================================================\n",
      "Total params: 21,902\n",
      "Trainable params: 21,902\n",
      "Non-trainable params: 0\n",
      "_________________________________________________________________\n"
     ]
    }
   ],
   "source": [
    "model = keras.Sequential()\n",
    "\n",
    "model.add(keras.layers.Dense(100,activation='relu',input_shape=x_train.shape[1:]))\n",
    "model.add(keras.layers.Dense(100,activation='relu'))\n",
    "model.add(keras.layers.Dense(100,activation='relu'))\n",
    "model.add(keras.layers.Dense(2,activation='softmax'))\n",
    "\n",
    "model.summary()"
   ]
  },
  {
   "cell_type": "markdown",
   "metadata": {},
   "source": [
    "2.4 Initialization of optimization method, loss function and metric"
   ]
  },
  {
   "cell_type": "code",
   "execution_count": 6,
   "metadata": {},
   "outputs": [],
   "source": [
    "model.compile(optimizer='adam', loss='categorical_crossentropy',metrics=['accuracy'])"
   ]
  },
  {
   "cell_type": "markdown",
   "metadata": {},
   "source": [
    "2.5 Training"
   ]
  },
  {
   "cell_type": "code",
   "execution_count": 11,
   "metadata": {},
   "outputs": [
    {
     "name": "stdout",
     "output_type": "stream",
     "text": [
      "Train on 400000 samples, validate on 100000 samples\n",
      "Epoch 1/10\n",
      "400000/400000 - 27s - loss: 0.4020 - accuracy: 0.8070 - val_loss: 0.4008 - val_accuracy: 0.8083\n",
      "Epoch 2/10\n",
      "400000/400000 - 31s - loss: 0.3992 - accuracy: 0.8086 - val_loss: 0.4027 - val_accuracy: 0.8076\n",
      "Epoch 3/10\n",
      "400000/400000 - 33s - loss: 0.3976 - accuracy: 0.8090 - val_loss: 0.3957 - val_accuracy: 0.8088\n",
      "Epoch 4/10\n",
      "400000/400000 - 28s - loss: 0.3952 - accuracy: 0.8109 - val_loss: 0.4005 - val_accuracy: 0.8061\n",
      "Epoch 5/10\n",
      "400000/400000 - 29s - loss: 0.3937 - accuracy: 0.8111 - val_loss: 0.3905 - val_accuracy: 0.8132\n",
      "Epoch 6/10\n",
      "400000/400000 - 27s - loss: 0.3916 - accuracy: 0.8126 - val_loss: 0.3983 - val_accuracy: 0.8094\n",
      "Epoch 7/10\n",
      "400000/400000 - 26s - loss: 0.3897 - accuracy: 0.8129 - val_loss: 0.3938 - val_accuracy: 0.8108\n",
      "Epoch 8/10\n",
      "400000/400000 - 28s - loss: 0.3877 - accuracy: 0.8138 - val_loss: 0.3852 - val_accuracy: 0.8163\n",
      "Epoch 9/10\n",
      "400000/400000 - 29s - loss: 0.3859 - accuracy: 0.8154 - val_loss: 0.3821 - val_accuracy: 0.8170\n",
      "Epoch 10/10\n",
      "400000/400000 - 27s - loss: 0.3839 - accuracy: 0.8159 - val_loss: 0.3915 - val_accuracy: 0.8115\n"
     ]
    },
    {
     "data": {
      "text/plain": [
       "<tensorflow.python.keras.callbacks.History at 0x1c55565790>"
      ]
     },
     "execution_count": 11,
     "metadata": {},
     "output_type": "execute_result"
    }
   ],
   "source": [
    "model.fit(x_train,y_train,validation_split=0.2, epochs=10,verbose = 2)"
   ]
  },
  {
   "cell_type": "markdown",
   "metadata": {},
   "source": [
    "2.6 Test True Positive Rate"
   ]
  },
  {
   "cell_type": "code",
   "execution_count": 12,
   "metadata": {},
   "outputs": [
    {
     "name": "stdout",
     "output_type": "stream",
     "text": [
      "0.189738\n"
     ]
    }
   ],
   "source": [
    "print(TruePositiveRate(x_train, y_train, model))"
   ]
  },
  {
   "cell_type": "markdown",
   "metadata": {},
   "source": [
    "2.7 Delete training variables when ready to switch to testing"
   ]
  },
  {
   "cell_type": "code",
   "execution_count": 13,
   "metadata": {},
   "outputs": [],
   "source": [
    "del x_train, y_train"
   ]
  },
  {
   "cell_type": "markdown",
   "metadata": {},
   "source": [
    "# 3. Submission"
   ]
  },
  {
   "cell_type": "code",
   "execution_count": 14,
   "metadata": {},
   "outputs": [],
   "source": [
    "from SubmissionHelper import *\n",
    "from datetime import datetime"
   ]
  },
  {
   "cell_type": "code",
   "execution_count": 24,
   "metadata": {},
   "outputs": [],
   "source": [
    "prediction_filenames=[]\n",
    "patch_size = 16\n",
    "for i in range(X_test.shape[0]):\n",
    "    Yi_pred = np.argmax(model.predict(X_test[i,:,:]),axis=1)\n",
    "    predicted_mask = label_to_img(608,608,16,16,Yi_pred)\n",
    "    if i+1<10:\n",
    "        image_string = \"00\"+str(i+1)\n",
    "    else:\n",
    "        image_string = \"0\"+str(i+1)\n",
    "    prediction_filenames += [\"Submission/image_\"+image_string+\".png\"]    \n",
    "    # Saving the masks in the preddir folder\n",
    "    Image.fromarray(binary_to_uint8(predicted_mask)).save(prediction_filenames[i])  \n",
    "\n",
    "# Create unique filename\n",
    "now = datetime.now()\n",
    "dt_string = now.strftime(\"%H_%M__%d_%m\")\n",
    "submission_filename = \"Submission/\" + \"submission_\" + dt_string + \".csv\"\n",
    "    \n",
    "# Create submission\n",
    "masks_to_submission(submission_filename, prediction_filenames)"
   ]
  },
  {
   "cell_type": "code",
   "execution_count": 25,
   "metadata": {},
   "outputs": [
    {
     "data": {
      "text/plain": [
       "<matplotlib.image.AxesImage at 0x1c45172790>"
      ]
     },
     "execution_count": 25,
     "metadata": {},
     "output_type": "execute_result"
    },
    {
     "data": {
      "image/png": "[encoded data removed]",
      "text/plain": [
       "<Figure size 432x288 with 1 Axes>"
      ]
     },
     "metadata": {
      "needs_background": "light"
     },
     "output_type": "display_data"
    }
   ],
   "source": [
    "Yi_pred = np.argmax(model.predict(X_test[3,:,:]),axis=1)\n",
    "predicted_mask = label_to_img(608,608,16,16,Yi_pred)\n",
    "\n",
    "plt.imshow(binary_to_uint8(predicted_mask))\n"
   ]
  },
  {
   "cell_type": "code",
   "execution_count": 26,
   "metadata": {},
   "outputs": [
    {
     "data": {
      "text/plain": [
       "<matplotlib.image.AxesImage at 0x1c455a4c10>"
      ]
     },
     "execution_count": 26,
     "metadata": {},
     "output_type": "execute_result"
    },
    {
     "data": {
      "image/png": "[encoded data removed]",
      "text/plain": [
       "<Figure size 432x288 with 1 Axes>"
      ]
     },
     "metadata": {
      "needs_background": "light"
     },
     "output_type": "display_data"
    }
   ],
   "source": [
    "plt.imshow(np.reshape(X_test,(50,38,38,14))[3,:,:,:3])"
   ]
  },
  {
   "cell_type": "code",
   "execution_count": null,
   "metadata": {},
   "outputs": [],
   "source": []
  }
 ],
 "metadata": {
  "kernelspec": {
   "display_name": "Python 3",
   "language": "python",
   "name": "python3"
  },
  "language_info": {
   "codemirror_mode": {
    "name": "ipython",
    "version": 3
   },
   "file_extension": ".py",
   "mimetype": "text/x-python",
   "name": "python",
   "nbconvert_exporter": "python",
   "pygments_lexer": "ipython3",
   "version": "3.7.3"
  }
 },
 "nbformat": 4,
 "nbformat_minor": 1
}
