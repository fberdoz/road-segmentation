{
 "cells": [
  {
   "cell_type": "code",
   "execution_count": 1,
   "metadata": {},
   "outputs": [],
   "source": [
    "%matplotlib inline\n",
    "import matplotlib.image as mpimg\n",
    "import numpy as np\n",
    "import matplotlib.pyplot as plt\n",
    "import os,sys\n",
    "import pickle\n",
    "from helpers import *\n",
    "from ImageProcessing import *\n",
    "from PIL import Image\n",
    "from scipy import ndimage, signal\n",
    "\n",
    "%load_ext autoreload\n",
    "%autoreload 2"
   ]
  },
  {
   "cell_type": "markdown",
   "metadata": {},
   "source": [
    "# 1. Loading  Data"
   ]
  },
  {
   "cell_type": "markdown",
   "metadata": {},
   "source": [
    "1.1 Loading Train Data"
   ]
  },
  {
   "cell_type": "code",
   "execution_count": 2,
   "metadata": {},
   "outputs": [
    {
     "name": "stdout",
     "output_type": "stream",
     "text": [
      "Loaded X_2D_patchNo_channels6 and Y_2D_patchNo_channels6\n",
      "X shape is (800, 400, 400, 3)\n",
      "Y shape is (800, 400, 400)\n"
     ]
    }
   ],
   "source": [
    "filename_X = \"X_2D_patchNo_channels6\"\n",
    "filename_Y = \"Y_2D_patchNo_channels6\"\n",
    "\n",
    "infile_X = open(filename_X + \".pickle\",\"rb\")\n",
    "X = np.array(pickle.load(infile_X))\n",
    "infile_X.close()\n",
    "\n",
    "infile_Y = open(filename_Y + \".pickle\",\"rb\")\n",
    "Y = np.array(pickle.load(infile_Y))\n",
    "infile_Y.close()\n",
    "\n",
    "print(\"Loaded \" + filename_X + \" and \" + filename_Y)\n",
    "print(\"X shape is\", X.shape)\n",
    "print(\"Y shape is\", Y.shape)"
   ]
  },
  {
   "cell_type": "markdown",
   "metadata": {},
   "source": [
    "1.2 Loading Test Data"
   ]
  },
  {
   "cell_type": "code",
   "execution_count": 2,
   "metadata": {},
   "outputs": [
    {
     "name": "stdout",
     "output_type": "stream",
     "text": [
      "Loaded Xtest_2D_patch16_channels14.pickle\n",
      "X_test shape is (50, 38, 38, 14)\n"
     ]
    }
   ],
   "source": [
    "filename_X_test = \"Xtest_2D_patch16_channels14\"\n",
    "\n",
    "infile_X_test = open(filename_X_test + \".pickle\",\"rb\")\n",
    "X_test = pickle.load(infile_X_test)\n",
    "infile_X_test.close()\n",
    "print(\"Loaded \" + filename_X_test + \".pickle\")\n",
    "print(\"X_test shape is\", X_test.shape)"
   ]
  },
  {
   "cell_type": "markdown",
   "metadata": {},
   "source": [
    "1.4 Loading Model"
   ]
  },
  {
   "cell_type": "code",
   "execution_count": null,
   "metadata": {},
   "outputs": [],
   "source": [
    "modelname = \"1DModel_Aug\"\n",
    "\n",
    "model = keras.models.load_model(modelname + \".h5\")"
   ]
  },
  {
   "cell_type": "markdown",
   "metadata": {},
   "source": [
    "# 2. Training Neural Net"
   ]
  },
  {
   "cell_type": "markdown",
   "metadata": {},
   "source": [
    "2.1 Loading Tensorflow library"
   ]
  },
  {
   "cell_type": "code",
   "execution_count": 4,
   "metadata": {},
   "outputs": [],
   "source": [
    "import tensorflow as tf\n",
    "from tensorflow.python import keras"
   ]
  },
  {
   "cell_type": "markdown",
   "metadata": {},
   "source": [
    "2.2 Normalization of data"
   ]
  },
  {
   "cell_type": "code",
   "execution_count": 5,
   "metadata": {},
   "outputs": [
    {
     "name": "stdout",
     "output_type": "stream",
     "text": [
      "x_train shape: (800, 400, 400, 3)\n",
      "y_train shape: (800, 400, 400, 2)\n"
     ]
    }
   ],
   "source": [
    "x_train = keras.utils.normalize(X)\n",
    "del X\n",
    "\n",
    "Y[np.where(Y>=0.25)]=1\n",
    "Y[np.where(Y<0.25)]=0\n",
    "y_train = keras.utils.to_categorical(Y,num_classes=2)\n",
    "\n",
    "del Y\n",
    "print(\"x_train shape:\",x_train.shape)\n",
    "print(\"y_train shape:\", y_train.shape)"
   ]
  },
  {
   "cell_type": "markdown",
   "metadata": {},
   "source": [
    "2.3 Initialization of a 2D convolutional network"
   ]
  },
  {
   "cell_type": "code",
   "execution_count": 5,
   "metadata": {},
   "outputs": [
    {
     "name": "stdout",
     "output_type": "stream",
     "text": [
      "Model: \"sequential\"\n",
      "_________________________________________________________________\n",
      "Layer (type)                 Output Shape              Param #   \n",
      "=================================================================\n",
      "dense (Dense)                (None, 400, 400, 100)     400       \n",
      "_________________________________________________________________\n",
      "conv2d (Conv2D)              (None, 200, 200, 5)       2005      \n",
      "_________________________________________________________________\n",
      "conv2d_1 (Conv2D)            (None, 100, 100, 5)       105       \n",
      "_________________________________________________________________\n",
      "dense_1 (Dense)              (None, 100, 100, 100)     600       \n",
      "_________________________________________________________________\n",
      "conv2d_transpose (Conv2DTran (None, 200, 200, 10)      4010      \n",
      "_________________________________________________________________\n",
      "dense_2 (Dense)              (None, 200, 200, 100)     1100      \n",
      "_________________________________________________________________\n",
      "conv2d_transpose_1 (Conv2DTr (None, 400, 400, 5)       2005      \n",
      "_________________________________________________________________\n",
      "dense_3 (Dense)              (None, 400, 400, 2)       12        \n",
      "=================================================================\n",
      "Total params: 10,237\n",
      "Trainable params: 10,237\n",
      "Non-trainable params: 0\n",
      "_________________________________________________________________\n"
     ]
    }
   ],
   "source": [
    "model = keras.Sequential()\n",
    "\n",
    "model.add(keras.layers.Dense(100,activation='relu',input_shape=x_train.shape[1:4]))\n",
    "model.add(keras.layers.Conv2D(filters=5,kernel_size=(2,2),strides=(2,2),padding='valid',data_format='channels_last',use_bias=True))\n",
    "model.add(keras.layers.Conv2D(filters=5,kernel_size=(2,2),strides=(2,2),padding='valid',data_format='channels_last',use_bias=True))\n",
    "model.add(keras.layers.Dense(100,activation='relu'))\n",
    "model.add(keras.layers.Conv2DTranspose(filters=10,kernel_size=(2,2),strides=(2,2),activation='relu',padding='valid',data_format='channels_last',use_bias=True)),\n",
    "model.add(keras.layers.Dense(100,activation='relu'))\n",
    "model.add(keras.layers.Conv2DTranspose(filters=5,kernel_size=(2,2),strides=(2,2)))\n",
    "\n",
    "model.add(keras.layers.Dense(2,activation='softmax'))\n",
    "\n",
    "model.summary()"
   ]
  },
  {
   "cell_type": "markdown",
   "metadata": {},
   "source": [
    "2.4 Initialization of optimization method, loss function and metric"
   ]
  },
  {
   "cell_type": "code",
   "execution_count": 6,
   "metadata": {},
   "outputs": [],
   "source": [
    "model.compile(optimizer='adam', loss='categorical_crossentropy',metrics=['accuracy'])"
   ]
  },
  {
   "cell_type": "markdown",
   "metadata": {},
   "source": [
    "2.5 Training"
   ]
  },
  {
   "cell_type": "code",
   "execution_count": null,
   "metadata": {},
   "outputs": [
    {
     "name": "stdout",
     "output_type": "stream",
     "text": [
      "Train on 640 samples, validate on 160 samples\n",
      "Epoch 1/50\n"
     ]
    }
   ],
   "source": [
    "model.fit(x_train,y_train,validation_split=0.2, epochs=50,verbose = 2)"
   ]
  },
  {
   "cell_type": "markdown",
   "metadata": {},
   "source": [
    "# 3. Submission"
   ]
  },
  {
   "cell_type": "code",
   "execution_count": 25,
   "metadata": {},
   "outputs": [],
   "source": [
    "y_pred = model.predict(x_train[3:4])"
   ]
  },
  {
   "cell_type": "code",
   "execution_count": 28,
   "metadata": {},
   "outputs": [
    {
     "data": {
      "text/plain": [
       "<matplotlib.image.AxesImage at 0x1c3159c690>"
      ]
     },
     "execution_count": 28,
     "metadata": {},
     "output_type": "execute_result"
    },
    {
     "data": {
      "image/png": "[encoded data removed]",
      "text/plain": [
       "<Figure size 432x288 with 1 Axes>"
      ]
     },
     "metadata": {
      "needs_background": "light"
     },
     "output_type": "display_data"
    }
   ],
   "source": [
    "plt.imshow(np.argmax(y_pred[0],axis=-1))"
   ]
  },
  {
   "cell_type": "code",
   "execution_count": null,
   "metadata": {},
   "outputs": [],
   "source": []
  }
 ],
 "metadata": {
  "kernelspec": {
   "display_name": "Python 3",
   "language": "python",
   "name": "python3"
  },
  "language_info": {
   "codemirror_mode": {
    "name": "ipython",
    "version": 3
   },
   "file_extension": ".py",
   "mimetype": "text/x-python",
   "name": "python",
   "nbconvert_exporter": "python",
   "pygments_lexer": "ipython3",
   "version": "3.7.3"
  }
 },
 "nbformat": 4,
 "nbformat_minor": 2
}
